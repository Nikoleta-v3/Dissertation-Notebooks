{
 "cells": [
  {
   "cell_type": "code",
   "execution_count": 17,
   "metadata": {
    "collapsed": true
   },
   "outputs": [],
   "source": [
    "import axelrod as axl"
   ]
  },
  {
   "cell_type": "code",
   "execution_count": 18,
   "metadata": {
    "collapsed": true
   },
   "outputs": [],
   "source": [
    "from numpy import mean, std"
   ]
  },
  {
   "cell_type": "code",
   "execution_count": 19,
   "metadata": {
    "collapsed": true
   },
   "outputs": [],
   "source": [
    "# make some deterministic players because we know how they behave\n",
    "players = (axl.Alternator(), axl.TitForTat(), axl.Defector(), axl.Cooperator())\n",
    "\n",
    "#Cooperator : always cooperates\n",
    "#Defector : always defects\n",
    "#Alteranator : alternates between cooperating and defecting\n",
    "#Tit for Tat : cooperates on the first turn and then mirror the last opponent move "
   ]
  },
  {
   "cell_type": "code",
   "execution_count": 20,
   "metadata": {
    "collapsed": true
   },
   "outputs": [],
   "source": [
    "#In pairs\n",
    "edges = [(0, 1), (2, 3)]"
   ]
  },
  {
   "cell_type": "code",
   "execution_count": 21,
   "metadata": {
    "collapsed": false
   },
   "outputs": [
    {
     "name": "stderr",
     "output_type": "stream",
     "text": []
    }
   ],
   "source": [
    "sp=axl.SpatialMatches(players, turns=5, game = None , repetitions=3, edges=edges)\n",
    "tournament = axl.SpatialTournament(players, match_generator=sp ,turns=5, repetitions=3, edges=edges)\n",
    "results= tournament.play() "
   ]
  },
  {
   "cell_type": "code",
   "execution_count": 22,
   "metadata": {
    "collapsed": false
   },
   "outputs": [
    {
     "data": {
      "text/plain": [
       "defaultdict(list,\n",
       "            {(0,\n",
       "              1): [[('C', 'C'),\n",
       "               ('D', 'C'),\n",
       "               ('C', 'D'),\n",
       "               ('D', 'C'),\n",
       "               ('C', 'D')], [('C', 'C'),\n",
       "               ('D', 'C'),\n",
       "               ('C', 'D'),\n",
       "               ('D', 'C'),\n",
       "               ('C', 'D')], [('C', 'C'),\n",
       "               ('D', 'C'),\n",
       "               ('C', 'D'),\n",
       "               ('D', 'C'),\n",
       "               ('C', 'D')]],\n",
       "             (2,\n",
       "              3): [[('D', 'C'),\n",
       "               ('D', 'C'),\n",
       "               ('D', 'C'),\n",
       "               ('D', 'C'),\n",
       "               ('D', 'C')], [('D', 'C'),\n",
       "               ('D', 'C'),\n",
       "               ('D', 'C'),\n",
       "               ('D', 'C'),\n",
       "               ('D', 'C')], [('D', 'C'),\n",
       "               ('D', 'C'),\n",
       "               ('D', 'C'),\n",
       "               ('D', 'C'),\n",
       "               ('D', 'C')]]})"
      ]
     },
     "execution_count": 22,
     "metadata": {},
     "output_type": "execute_result"
    }
   ],
   "source": [
    "results.interactions "
   ]
  },
  {
   "cell_type": "code",
   "execution_count": 23,
   "metadata": {
    "collapsed": false
   },
   "outputs": [
    {
     "data": {
      "text/plain": [
       "[[[0, 5, 0, 0], [5, 0, 0, 0], [0, 0, 0, 5], [0, 0, 5, 0]],\n",
       " [[0, 5, 0, 0], [5, 0, 0, 0], [0, 0, 0, 5], [0, 0, 5, 0]],\n",
       " [[0, 5, 0, 0], [5, 0, 0, 0], [0, 0, 0, 5], [0, 0, 5, 0]]]"
      ]
     },
     "execution_count": 23,
     "metadata": {},
     "output_type": "execute_result"
    }
   ],
   "source": [
    "results.match_lengths #correct"
   ]
  },
  {
   "cell_type": "code",
   "execution_count": 24,
   "metadata": {
    "collapsed": false
   },
   "outputs": [
    {
     "data": {
      "text/plain": [
       "[[13, 13, 13], [13, 13, 13], [25, 25, 25], [0, 0, 0]]"
      ]
     },
     "execution_count": 24,
     "metadata": {},
     "output_type": "execute_result"
    }
   ],
   "source": [
    "results.scores #correct"
   ]
  },
  {
   "cell_type": "code",
   "execution_count": 25,
   "metadata": {
    "collapsed": true
   },
   "outputs": [],
   "source": [
    "k = results.interactions"
   ]
  },
  {
   "cell_type": "code",
   "execution_count": 26,
   "metadata": {
    "collapsed": false
   },
   "outputs": [
    {
     "name": "stdout",
     "output_type": "stream",
     "text": [
      "(0, 1) [[('C', 'C'), ('D', 'C'), ('C', 'D'), ('D', 'C'), ('C', 'D')], [('C', 'C'), ('D', 'C'), ('C', 'D'), ('D', 'C'), ('C', 'D')], [('C', 'C'), ('D', 'C'), ('C', 'D'), ('D', 'C'), ('C', 'D')]]\n",
      "(2, 3) [[('D', 'C'), ('D', 'C'), ('D', 'C'), ('D', 'C'), ('D', 'C')], [('D', 'C'), ('D', 'C'), ('D', 'C'), ('D', 'C'), ('D', 'C')], [('D', 'C'), ('D', 'C'), ('D', 'C'), ('D', 'C'), ('D', 'C')]]\n"
     ]
    }
   ],
   "source": [
    "for keys, ineters in k.items():\n",
    "    print(keys, ineters)"
   ]
  },
  {
   "cell_type": "code",
   "execution_count": 27,
   "metadata": {
    "collapsed": false
   },
   "outputs": [
    {
     "data": {
      "text/plain": [
       "2"
      ]
     },
     "execution_count": 27,
     "metadata": {},
     "output_type": "execute_result"
    }
   ],
   "source": [
    "len(k)"
   ]
  },
  {
   "cell_type": "code",
   "execution_count": 28,
   "metadata": {
    "collapsed": false
   },
   "outputs": [
    {
     "data": {
      "text/plain": [
       "[3, 3]"
      ]
     },
     "execution_count": 28,
     "metadata": {},
     "output_type": "execute_result"
    }
   ],
   "source": [
    "[len(rep) for rep in list(k.values())] #error repititions = 3"
   ]
  },
  {
   "cell_type": "code",
   "execution_count": 29,
   "metadata": {
    "collapsed": false
   },
   "outputs": [
    {
     "data": {
      "text/plain": [
       "[[0.0, 0.59999999999999998, 0.0, 0.0],\n",
       " [0.59999999999999998, 0.0, 0.0, 0.0],\n",
       " [0.0, 0.0, 0.0, 0.0],\n",
       " [0.0, 0.0, 1.0, 0.0]]"
      ]
     },
     "execution_count": 29,
     "metadata": {},
     "output_type": "execute_result"
    }
   ],
   "source": [
    "results.normalised_cooperation"
   ]
  },
  {
   "cell_type": "code",
   "execution_count": 30,
   "metadata": {
    "collapsed": false
   },
   "outputs": [
    {
     "data": {
      "text/plain": [
       "[[0, 9, 0, 0], [9, 0, 0, 0], [0, 0, 0, 0], [0, 0, 15, 0]]"
      ]
     },
     "execution_count": 30,
     "metadata": {},
     "output_type": "execute_result"
    }
   ],
   "source": [
    "results.cooperation"
   ]
  },
  {
   "cell_type": "code",
   "execution_count": 31,
   "metadata": {
    "collapsed": false
   },
   "outputs": [
    {
     "data": {
      "text/plain": [
       "'Defector,Alternator,Tit For Tat,Cooperator\\n5.0,2.6,2.6,0.0\\n5.0,2.6,2.6,0.0\\n5.0,2.6,2.6,0.0\\n'"
      ]
     },
     "execution_count": 31,
     "metadata": {},
     "output_type": "execute_result"
    }
   ],
   "source": [
    "results.csv()"
   ]
  },
  {
   "cell_type": "code",
   "execution_count": null,
   "metadata": {
    "collapsed": true
   },
   "outputs": [],
   "source": []
  }
 ],
 "metadata": {
  "kernelspec": {
   "display_name": "Python 3",
   "language": "python",
   "name": "python3"
  },
  "language_info": {
   "codemirror_mode": {
    "name": "ipython",
    "version": 3
   },
   "file_extension": ".py",
   "mimetype": "text/x-python",
   "name": "python",
   "nbconvert_exporter": "python",
   "pygments_lexer": "ipython3",
   "version": "3.5.1+"
  }
 },
 "nbformat": 4,
 "nbformat_minor": 0
}
