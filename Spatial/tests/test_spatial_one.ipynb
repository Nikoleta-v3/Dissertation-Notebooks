{
 "cells": [
  {
   "cell_type": "code",
   "execution_count": 34,
   "metadata": {
    "collapsed": true
   },
   "outputs": [],
   "source": [
    "#we import the library\n",
    "import axelrod as axl\n",
    "import os"
   ]
  },
  {
   "cell_type": "code",
   "execution_count": 35,
   "metadata": {
    "collapsed": false
   },
   "outputs": [],
   "source": [
    "# make some deterministic players because we know how they behave\n",
    "players = (axl.Alternator(), axl.TitForTat(), axl.Defector())\n",
    "\n",
    "#Cooperator : always cooperates\n",
    "#Defector : always defects\n",
    "#Alteranator : alternates between cooperating and defecting\n",
    "#Tit for Tat : cooperates on the first turn and then mirror the last opponent move "
   ]
  },
  {
   "cell_type": "code",
   "execution_count": 36,
   "metadata": {
    "collapsed": true
   },
   "outputs": [],
   "source": [
    "edges = [(0, 1), (0, 2)]"
   ]
  },
  {
   "cell_type": "code",
   "execution_count": 37,
   "metadata": {
    "collapsed": false
   },
   "outputs": [
    {
     "name": "stderr",
     "output_type": "stream",
     "text": []
    }
   ],
   "source": [
    "sp=axl.SpatialMatches(players, turns=5, game = None , repetitions=3, edges=edges)\n",
    "tournament = axl.SpatialTournament(players, match_generator=sp ,turns=5, repetitions=3, edges=edges)\n",
    "os.remove(\"example.csv\")\n",
    "results= tournament.play(filename=\"example.csv\") "
   ]
  },
  {
   "cell_type": "code",
   "execution_count": 38,
   "metadata": {
    "collapsed": false
   },
   "outputs": [],
   "source": [
    "k = results.interactions "
   ]
  },
  {
   "cell_type": "code",
   "execution_count": 39,
   "metadata": {
    "collapsed": false
   },
   "outputs": [
    {
     "data": {
      "text/plain": [
       "defaultdict(list,\n",
       "            {(0,\n",
       "              1): [[('C', 'C'),\n",
       "               ('D', 'C'),\n",
       "               ('C', 'D'),\n",
       "               ('D', 'C'),\n",
       "               ('C', 'D')], [('C', 'C'),\n",
       "               ('D', 'C'),\n",
       "               ('C', 'D'),\n",
       "               ('D', 'C'),\n",
       "               ('C', 'D')], [('C', 'C'),\n",
       "               ('D', 'C'),\n",
       "               ('C', 'D'),\n",
       "               ('D', 'C'),\n",
       "               ('C', 'D')]],\n",
       "             (0,\n",
       "              2): [[('C', 'D'),\n",
       "               ('D', 'D'),\n",
       "               ('C', 'D'),\n",
       "               ('D', 'D'),\n",
       "               ('C', 'D')], [('C', 'D'),\n",
       "               ('D', 'D'),\n",
       "               ('C', 'D'),\n",
       "               ('D', 'D'),\n",
       "               ('C', 'D')], [('C', 'D'),\n",
       "               ('D', 'D'),\n",
       "               ('C', 'D'),\n",
       "               ('D', 'D'),\n",
       "               ('C', 'D')]]})"
      ]
     },
     "execution_count": 39,
     "metadata": {},
     "output_type": "execute_result"
    }
   ],
   "source": [
    "k"
   ]
  },
  {
   "cell_type": "code",
   "execution_count": 40,
   "metadata": {
    "collapsed": false
   },
   "outputs": [
    {
     "data": {
      "text/plain": [
       "[3, 3]"
      ]
     },
     "execution_count": 40,
     "metadata": {},
     "output_type": "execute_result"
    }
   ],
   "source": [
    "[len(rep) for rep in list(k.values())] #error repititions = 3"
   ]
  },
  {
   "cell_type": "code",
   "execution_count": 41,
   "metadata": {
    "collapsed": false
   },
   "outputs": [
    {
     "data": {
      "text/plain": [
       "3"
      ]
     },
     "execution_count": 41,
     "metadata": {},
     "output_type": "execute_result"
    }
   ],
   "source": [
    "results.nrepetitions"
   ]
  },
  {
   "cell_type": "code",
   "execution_count": 42,
   "metadata": {
    "collapsed": false
   },
   "outputs": [
    {
     "name": "stdout",
     "output_type": "stream",
     "text": [
      "(0, 1) [[('C', 'C'), ('D', 'C'), ('C', 'D'), ('D', 'C'), ('C', 'D')], [('C', 'C'), ('D', 'C'), ('C', 'D'), ('D', 'C'), ('C', 'D')], [('C', 'C'), ('D', 'C'), ('C', 'D'), ('D', 'C'), ('C', 'D')]]\n",
      "(0, 2) [[('C', 'D'), ('D', 'D'), ('C', 'D'), ('D', 'D'), ('C', 'D')], [('C', 'D'), ('D', 'D'), ('C', 'D'), ('D', 'D'), ('C', 'D')], [('C', 'D'), ('D', 'D'), ('C', 'D'), ('D', 'D'), ('C', 'D')]]\n"
     ]
    }
   ],
   "source": [
    "for keys, ineters in k.items():\n",
    "    print(keys, ineters)"
   ]
  },
  {
   "cell_type": "code",
   "execution_count": 43,
   "metadata": {
    "collapsed": false
   },
   "outputs": [],
   "source": [
    "matches = {(0,1): [axl.Match((players[0], players[1]),\n",
    "                   turns=5) for _ in range(3)],\n",
    "           (0,2): [axl.Match((players[0], players[2]),\n",
    "                   turns=5) for _ in range(3)]}\n",
    "# lets indentify the error"
   ]
  },
  {
   "cell_type": "code",
   "execution_count": 44,
   "metadata": {
    "collapsed": false
   },
   "outputs": [],
   "source": [
    "interactions = {}\n",
    "for index_pair, matches in matches.items():\n",
    "    for match in matches:\n",
    "        match.play()\n",
    "    try:\n",
    "        interactions[index_pair].append(match.result)\n",
    "    except KeyError:\n",
    "        interactions[index_pair] = [match.result]"
   ]
  },
  {
   "cell_type": "code",
   "execution_count": 45,
   "metadata": {
    "collapsed": false
   },
   "outputs": [
    {
     "data": {
      "text/plain": [
       "2"
      ]
     },
     "execution_count": 45,
     "metadata": {},
     "output_type": "execute_result"
    }
   ],
   "source": [
    "len(interactions) # len is two"
   ]
  },
  {
   "cell_type": "code",
   "execution_count": 46,
   "metadata": {
    "collapsed": false
   },
   "outputs": [
    {
     "data": {
      "text/plain": [
       "[1, 1]"
      ]
     },
     "execution_count": 46,
     "metadata": {},
     "output_type": "execute_result"
    }
   ],
   "source": [
    "[len(rep) for rep in list(interactions.values())] #not sure why"
   ]
  },
  {
   "cell_type": "code",
   "execution_count": 47,
   "metadata": {
    "collapsed": false
   },
   "outputs": [
    {
     "data": {
      "text/plain": [
       "3"
      ]
     },
     "execution_count": 47,
     "metadata": {},
     "output_type": "execute_result"
    }
   ],
   "source": [
    "results.nrepetitions"
   ]
  },
  {
   "cell_type": "code",
   "execution_count": 48,
   "metadata": {
    "collapsed": false
   },
   "outputs": [
    {
     "name": "stdout",
     "output_type": "stream",
     "text": [
      "0 0 0\n",
      "0 1 5 pass\n",
      "0 2 5 pass\n",
      "1 0 5 pass\n",
      "1 1 0\n",
      "1 2 0\n",
      "2 0 5 pass\n",
      "2 1 0\n",
      "2 2 0\n",
      "0 0 0\n",
      "0 1 5 pass\n",
      "0 2 5 pass\n",
      "1 0 5 pass\n",
      "1 1 0\n",
      "1 2 0\n",
      "2 0 5 pass\n",
      "2 1 0\n",
      "2 2 0\n",
      "0 0 0\n",
      "0 1 5 pass\n",
      "0 2 5 pass\n",
      "1 0 5 pass\n",
      "1 1 0\n",
      "1 2 0\n",
      "2 0 5 pass\n",
      "2 1 0\n",
      "2 2 0\n"
     ]
    }
   ],
   "source": [
    "        for rep in results.match_lengths:\n",
    "            for i, opp in enumerate(rep):\n",
    "                for j, length in enumerate(opp):\n",
    "                    k = (i,j)\n",
    "                    if k in edges or k[::-1] in edges:  # Specific test for example match setup\n",
    "                        print (i,j , length, \"pass\")\n",
    "                    else:\n",
    "                        print (i,j , length)\n",
    "# identify the pattern for len = 5"
   ]
  },
  {
   "cell_type": "code",
   "execution_count": 49,
   "metadata": {
    "collapsed": false
   },
   "outputs": [
    {
     "data": {
      "text/plain": [
       "False"
      ]
     },
     "execution_count": 49,
     "metadata": {},
     "output_type": "execute_result"
    }
   ],
   "source": [
    "k in edges"
   ]
  },
  {
   "cell_type": "code",
   "execution_count": 50,
   "metadata": {
    "collapsed": true
   },
   "outputs": [],
   "source": [
    "r = (2, 0)"
   ]
  },
  {
   "cell_type": "code",
   "execution_count": 114,
   "metadata": {
    "collapsed": false
   },
   "outputs": [
    {
     "data": {
      "text/plain": [
       "True"
      ]
     },
     "execution_count": 114,
     "metadata": {},
     "output_type": "execute_result"
    }
   ],
   "source": [
    "r[::-1] in edges # trying reverse"
   ]
  },
  {
   "cell_type": "code",
   "execution_count": 52,
   "metadata": {
    "collapsed": false
   },
   "outputs": [
    {
     "data": {
      "text/plain": [
       "'Defector,Tit For Tat,Alternator\\n3.4,2.6,1.5\\n3.4,2.6,1.5\\n3.4,2.6,1.5\\n'"
      ]
     },
     "execution_count": 52,
     "metadata": {},
     "output_type": "execute_result"
    }
   ],
   "source": [
    "results.csv()"
   ]
  },
  {
   "cell_type": "code",
   "execution_count": null,
   "metadata": {
    "collapsed": true
   },
   "outputs": [],
   "source": []
  }
 ],
 "metadata": {
  "kernelspec": {
   "display_name": "Python 3",
   "language": "python",
   "name": "python3"
  },
  "language_info": {
   "codemirror_mode": {
    "name": "ipython",
    "version": 3
   },
   "file_extension": ".py",
   "mimetype": "text/x-python",
   "name": "python",
   "nbconvert_exporter": "python",
   "pygments_lexer": "ipython3",
   "version": "3.5.1+"
  }
 },
 "nbformat": 4,
 "nbformat_minor": 0
}
