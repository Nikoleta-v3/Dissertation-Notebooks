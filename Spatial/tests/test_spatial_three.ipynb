{
 "cells": [
  {
   "cell_type": "code",
   "execution_count": 17,
   "metadata": {
    "collapsed": true
   },
   "outputs": [],
   "source": [
    "import axelrod as axl"
   ]
  },
  {
   "cell_type": "code",
   "execution_count": 18,
   "metadata": {
    "collapsed": true
   },
   "outputs": [],
   "source": [
    "from numpy import mean, std"
   ]
  },
  {
   "cell_type": "code",
   "execution_count": 19,
   "metadata": {
    "collapsed": true
   },
   "outputs": [],
   "source": [
    "# make some deterministic players because we know how they behave\n",
    "players = (axl.Alternator(), axl.TitForTat(), axl.Defector(), axl.Cooperator())\n",
    "\n",
    "#Cooperator : always cooperates\n",
    "#Defector : always defects\n",
    "#Alteranator : alternates between cooperating and defecting\n",
    "#Tit for Tat : cooperates on the first turn and then mirror the last opponent move "
   ]
  },
  {
   "cell_type": "code",
   "execution_count": 20,
   "metadata": {
    "collapsed": true
   },
   "outputs": [],
   "source": [
    "edges = [(0, 0), (1, 1), (2, 2), (3, 3)]"
   ]
  },
  {
   "cell_type": "code",
   "execution_count": 21,
   "metadata": {
    "collapsed": false
   },
   "outputs": [
    {
     "name": "stderr",
     "output_type": "stream",
     "text": [
      "Analysing results:   0%|          | 0/19 [00:00<?, ?it/s]/usr/local/lib/python3.5/dist-packages/numpy-1.11.1rc1-py3.5-linux-x86_64.egg/numpy/core/_methods.py:59: RuntimeWarning: Mean of empty slice.\n",
      "  warnings.warn(\"Mean of empty slice.\", RuntimeWarning)\n",
      "/usr/local/lib/python3.5/dist-packages/numpy-1.11.1rc1-py3.5-linux-x86_64.egg/numpy/core/_methods.py:70: RuntimeWarning: invalid value encountered in double_scalars\n",
      "  ret = ret.dtype.type(ret / rcount)\n",
      "/usr/local/lib/python3.5/dist-packages/numpy-1.11.1rc1-py3.5-linux-x86_64.egg/numpy/lib/nanfunctions.py:689: RuntimeWarning: All-NaN slice encountered\n",
      "  warnings.warn(\"All-NaN slice encountered\", RuntimeWarning)\n"
     ]
    }
   ],
   "source": [
    "sp=axl.SpatialMatches(players, turns=5, game = None , repetitions=3, edges=edges)\n",
    "tournament = axl.SpatialTournament(players, match_generator=sp ,turns=5, repetitions=3, edges=edges)\n",
    "results= tournament.play() "
   ]
  },
  {
   "cell_type": "code",
   "execution_count": 22,
   "metadata": {
    "collapsed": false
   },
   "outputs": [
    {
     "data": {
      "text/plain": [
       "defaultdict(list,\n",
       "            {(0,\n",
       "              0): [[('C', 'C'),\n",
       "               ('D', 'D'),\n",
       "               ('C', 'C'),\n",
       "               ('D', 'D'),\n",
       "               ('C', 'C')], [('C', 'C'),\n",
       "               ('D', 'D'),\n",
       "               ('C', 'C'),\n",
       "               ('D', 'D'),\n",
       "               ('C', 'C')], [('C', 'C'),\n",
       "               ('D', 'D'),\n",
       "               ('C', 'C'),\n",
       "               ('D', 'D'),\n",
       "               ('C', 'C')]],\n",
       "             (1,\n",
       "              1): [[('C', 'C'),\n",
       "               ('C', 'C'),\n",
       "               ('C', 'C'),\n",
       "               ('C', 'C'),\n",
       "               ('C', 'C')], [('C', 'C'),\n",
       "               ('C', 'C'),\n",
       "               ('C', 'C'),\n",
       "               ('C', 'C'),\n",
       "               ('C', 'C')], [('C', 'C'),\n",
       "               ('C', 'C'),\n",
       "               ('C', 'C'),\n",
       "               ('C', 'C'),\n",
       "               ('C', 'C')]],\n",
       "             (2,\n",
       "              2): [[('D', 'D'),\n",
       "               ('D', 'D'),\n",
       "               ('D', 'D'),\n",
       "               ('D', 'D'),\n",
       "               ('D', 'D')], [('D', 'D'),\n",
       "               ('D', 'D'),\n",
       "               ('D', 'D'),\n",
       "               ('D', 'D'),\n",
       "               ('D', 'D')], [('D', 'D'),\n",
       "               ('D', 'D'),\n",
       "               ('D', 'D'),\n",
       "               ('D', 'D'),\n",
       "               ('D', 'D')]],\n",
       "             (3,\n",
       "              3): [[('C', 'C'),\n",
       "               ('C', 'C'),\n",
       "               ('C', 'C'),\n",
       "               ('C', 'C'),\n",
       "               ('C', 'C')], [('C', 'C'),\n",
       "               ('C', 'C'),\n",
       "               ('C', 'C'),\n",
       "               ('C', 'C'),\n",
       "               ('C', 'C')], [('C', 'C'),\n",
       "               ('C', 'C'),\n",
       "               ('C', 'C'),\n",
       "               ('C', 'C'),\n",
       "               ('C', 'C')]]})"
      ]
     },
     "execution_count": 22,
     "metadata": {},
     "output_type": "execute_result"
    }
   ],
   "source": [
    "results.interactions "
   ]
  },
  {
   "cell_type": "code",
   "execution_count": 23,
   "metadata": {
    "collapsed": false
   },
   "outputs": [
    {
     "data": {
      "text/plain": [
       "[[[5, 0, 0, 0], [0, 5, 0, 0], [0, 0, 5, 0], [0, 0, 0, 5]],\n",
       " [[5, 0, 0, 0], [0, 5, 0, 0], [0, 0, 5, 0], [0, 0, 0, 5]],\n",
       " [[5, 0, 0, 0], [0, 5, 0, 0], [0, 0, 5, 0], [0, 0, 0, 5]]]"
      ]
     },
     "execution_count": 23,
     "metadata": {},
     "output_type": "execute_result"
    }
   ],
   "source": [
    "results.match_lengths #correct"
   ]
  },
  {
   "cell_type": "code",
   "execution_count": 24,
   "metadata": {
    "collapsed": false
   },
   "outputs": [
    {
     "ename": "SyntaxError",
     "evalue": "unexpected EOF while parsing (<ipython-input-24-fe1b9ea568b5>, line 2)",
     "output_type": "error",
     "traceback": [
      "\u001b[1;36m  File \u001b[1;32m\"<ipython-input-24-fe1b9ea568b5>\"\u001b[1;36m, line \u001b[1;32m2\u001b[0m\n\u001b[1;33m    \u001b[0m\n\u001b[1;37m    ^\u001b[0m\n\u001b[1;31mSyntaxError\u001b[0m\u001b[1;31m:\u001b[0m unexpected EOF while parsing\n"
     ]
    }
   ],
   "source": [
    "for i in repetitions :\n",
    "    "
   ]
  },
  {
   "cell_type": "code",
   "execution_count": 25,
   "metadata": {
    "collapsed": false
   },
   "outputs": [
    {
     "data": {
      "text/plain": [
       "[[0, 0, 0], [0, 0, 0], [0, 0, 0], [0, 0, 0]]"
      ]
     },
     "execution_count": 25,
     "metadata": {},
     "output_type": "execute_result"
    }
   ],
   "source": [
    "results.scores #non - correct"
   ]
  },
  {
   "cell_type": "code",
   "execution_count": 26,
   "metadata": {
    "collapsed": false
   },
   "outputs": [
    {
     "data": {
      "text/plain": [
       "[[0, 0, 0], [0, 0, 0], [0, 0, 0], [0, 0, 0]]"
      ]
     },
     "execution_count": 26,
     "metadata": {},
     "output_type": "execute_result"
    }
   ],
   "source": [
    "results.wins # correct"
   ]
  },
  {
   "cell_type": "code",
   "execution_count": 27,
   "metadata": {
    "collapsed": false
   },
   "outputs": [
    {
     "data": {
      "text/plain": [
       "[[nan, nan, nan], [nan, nan, nan], [nan, nan, nan], [nan, nan, nan]]"
      ]
     },
     "execution_count": 27,
     "metadata": {},
     "output_type": "execute_result"
    }
   ],
   "source": [
    "results.normalised_scores # non"
   ]
  },
  {
   "cell_type": "code",
   "execution_count": 28,
   "metadata": {
    "collapsed": false
   },
   "outputs": [
    {
     "data": {
      "text/plain": [
       "[[[2.2, 2.2, 2.2], [], [], []],\n",
       " [[], [3.0, 3.0, 3.0], [], []],\n",
       " [[], [], [1.0, 1.0, 1.0], []],\n",
       " [[], [], [], [3.0, 3.0, 3.0]]]"
      ]
     },
     "execution_count": 28,
     "metadata": {},
     "output_type": "execute_result"
    }
   ],
   "source": [
    "results.payoffs # correct"
   ]
  },
  {
   "cell_type": "code",
   "execution_count": 29,
   "metadata": {
    "collapsed": false
   },
   "outputs": [
    {
     "data": {
      "text/plain": [
       "[[nan, nan, nan], [nan, nan, nan], [nan, nan, nan], [nan, nan, nan]]"
      ]
     },
     "execution_count": 29,
     "metadata": {},
     "output_type": "execute_result"
    }
   ],
   "source": [
    "results.normalised_scores # non"
   ]
  },
  {
   "cell_type": "code",
   "execution_count": 30,
   "metadata": {
    "collapsed": false
   },
   "outputs": [
    {
     "name": "stdout",
     "output_type": "stream",
     "text": [
      "<class 'numpy.float64'>\n",
      "<class 'numpy.float64'>\n",
      "<class 'numpy.float64'>\n",
      "<class 'numpy.float64'>\n",
      "<class 'numpy.float64'>\n",
      "<class 'numpy.float64'>\n",
      "<class 'numpy.float64'>\n",
      "<class 'numpy.float64'>\n",
      "<class 'numpy.float64'>\n",
      "<class 'numpy.float64'>\n",
      "<class 'numpy.float64'>\n",
      "<class 'numpy.float64'>\n"
     ]
    }
   ],
   "source": [
    "for score in results.normalised_scores:\n",
    "    for col in score:\n",
    "        print(type(col))"
   ]
  },
  {
   "cell_type": "code",
   "execution_count": 31,
   "metadata": {
    "collapsed": false
   },
   "outputs": [
    {
     "data": {
      "text/plain": [
       "[[0.59999999999999998, 0.0, 0.0, 0.0],\n",
       " [0.0, 1.0, 0.0, 0.0],\n",
       " [0.0, 0.0, 0.0, 0.0],\n",
       " [0.0, 0.0, 0.0, 1.0]]"
      ]
     },
     "execution_count": 31,
     "metadata": {},
     "output_type": "execute_result"
    }
   ],
   "source": [
    "results.normalised_cooperation # correct"
   ]
  },
  {
   "cell_type": "code",
   "execution_count": 32,
   "metadata": {
    "collapsed": false
   },
   "outputs": [
    {
     "data": {
      "text/plain": [
       "[0.0009235301367282831, 0.7071064796379986, 0.0, 0.7071064796379986]"
      ]
     },
     "execution_count": 32,
     "metadata": {},
     "output_type": "execute_result"
    }
   ],
   "source": [
    "results.eigenjesus_rating"
   ]
  },
  {
   "cell_type": "code",
   "execution_count": 33,
   "metadata": {
    "collapsed": false
   },
   "outputs": [
    {
     "data": {
      "text/plain": [
       "[0.4765940316018446,\n",
       " 0.3985944056208427,\n",
       " 0.6746133178770147,\n",
       " 0.3985944056208427]"
      ]
     },
     "execution_count": 33,
     "metadata": {},
     "output_type": "execute_result"
    }
   ],
   "source": [
    "results.eigenmoses_rating"
   ]
  },
  {
   "cell_type": "code",
   "execution_count": 34,
   "metadata": {
    "collapsed": false
   },
   "outputs": [
    {
     "data": {
      "text/plain": [
       "'Alternator,Tit For Tat,Defector,Cooperator\\nnan,nan,nan,nan\\nnan,nan,nan,nan\\nnan,nan,nan,nan\\n'"
      ]
     },
     "execution_count": 34,
     "metadata": {},
     "output_type": "execute_result"
    }
   ],
   "source": [
    "results.csv()"
   ]
  },
  {
   "cell_type": "code",
   "execution_count": null,
   "metadata": {
    "collapsed": true
   },
   "outputs": [],
   "source": []
  }
 ],
 "metadata": {
  "kernelspec": {
   "display_name": "Python 3",
   "language": "python",
   "name": "python3"
  },
  "language_info": {
   "codemirror_mode": {
    "name": "ipython",
    "version": 3
   },
   "file_extension": ".py",
   "mimetype": "text/x-python",
   "name": "python",
   "nbconvert_exporter": "python",
   "pygments_lexer": "ipython3",
   "version": "3.5.1+"
  }
 },
 "nbformat": 4,
 "nbformat_minor": 0
}
