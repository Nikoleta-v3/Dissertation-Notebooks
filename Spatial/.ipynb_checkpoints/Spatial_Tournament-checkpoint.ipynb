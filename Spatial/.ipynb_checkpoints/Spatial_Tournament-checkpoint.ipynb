{
 "cells": [
  {
   "cell_type": "code",
   "execution_count": 16,
   "metadata": {
    "collapsed": true
   },
   "outputs": [],
   "source": [
    "#This notebook is implementing a tournament with spatial topology for the axelrod-python library. \n",
    "#Here will we only run small tournaments with deterministic strategies and will intersect the result using\n",
    "#the simple tournament class for the axelrod library"
   ]
  },
  {
   "cell_type": "code",
   "execution_count": 17,
   "metadata": {
    "collapsed": true
   },
   "outputs": [],
   "source": [
    "#import the axelrod library\n",
    "import axelrod as axl"
   ]
  },
  {
   "cell_type": "code",
   "execution_count": 18,
   "metadata": {
    "collapsed": false
   },
   "outputs": [],
   "source": [
    "#this is a class that generate matches with spatial structure\n",
    "class SpatialMatches(axl.RoundRobinMatches):\n",
    "    \"\"\"A match generator for spatial tournaments\"\"\"\n",
    "    def __init__(self, players, turns, game, repetitions, edges):\n",
    "        self.edges = edges\n",
    "        super(axl.RoundRobinMatches, self).__init__(players, turns, game, repetitions)\n",
    "\n",
    "\n",
    "    def build_match_chunks(self):\n",
    "        for edge in self.edges:\n",
    "            match_params = self.build_single_match_params()\n",
    "            index_pair = edge\n",
    "            yield (index_pair, match_params, self.repetitions)\n",
    "            \n",
    "    def __len__(self):\n",
    "        return  len(self.edges)"
   ]
  },
  {
   "cell_type": "code",
   "execution_count": 19,
   "metadata": {
    "collapsed": false
   },
   "outputs": [],
   "source": [
    "# and this is a tournament class that generates a tournament with spatial structure \n",
    "class SpatialTournament(axl.Tournament):\n",
    "    \"\"\"\n",
    "    A tournament in which the players are allocated in a graph as nodes\n",
    "    and they players only play the others that are connected to with an edge.\n",
    "    \"\"\"\n",
    "\n",
    "    def __init__(self, players, match_generator=SpatialMatches,\n",
    "                 name='axelrod', game=None, turns=200, repetitions=10,\n",
    "                 noise=0,\n",
    "                 with_morality=True):\n",
    "        \"\"\"\n",
    "        Parameters\n",
    "        ----------\n",
    "        players : list\n",
    "            A list of axelrod.Player objects\n",
    "        match_generator : class\n",
    "            A class that must be descended from axelrod.MatchGenerator\n",
    "        name : string\n",
    "            A name for the tournament\n",
    "        game : axelrod.Game\n",
    "            The game object used to score the tournament\n",
    "        edges : dictionary\n",
    "            A dictionary containing the existing edges\n",
    "        repetitions : integer\n",
    "            The number of times the round robin should be repeated\n",
    "        processes : integer\n",
    "            The number of processes to be used for parallel processing\n",
    "        noise : float\n",
    "            The probability that a player's intended action should be flipped\n",
    "        with_morality : boolean\n",
    "            Whether morality metrics should be calculated\n",
    "        \"\"\"\n",
    "        super(SpatialTournament, self).__init__(\n",
    "            players, name=name, game=game, turns=turns,\n",
    "            repetitions=repetitions, noise=noise, with_morality=with_morality)\n",
    "\n",
    "        self.edges = edges\n",
    "        self.match_generator = SpatialMatches(\n",
    "            players, turns, self.game, repetitions, edges)\n",
    "        \n",
    "    def _write_interactions(self, results):\n",
    "        \"\"\"Write the interactions to csv.\"\"\"\n",
    "        for index_pair, interactions in results.items():\n",
    "            for interaction in interactions:\n",
    "                row = list(index_pair)\n",
    "                row.append(str(self.players[index_pair[0]]))\n",
    "                row.append(str(self.players[index_pair[1]]))\n",
    "                history1 = \"\".join([i[0] for i in interaction])\n",
    "                history2 = \"\".join([i[1] for i in interaction])\n",
    "                row.append(history1)\n",
    "                row.append(history2)\n",
    "                self.writer.writerow(row)\n",
    "                print(row) # take a look at what row looks like \n",
    "                self.num_interactions += 1\n",
    "                \n",
    "    def play(self, build_results=True, filename=None,\n",
    "             processes=None, progress_bar=True):\n",
    "        \"\"\"\n",
    "        Plays the tournament and passes the results to the ResultSet class\n",
    "\n",
    "        Parameters\n",
    "        ----------\n",
    "        build_results : bool\n",
    "            whether or not to build a results st\n",
    "        filename : string\n",
    "            name of output file\n",
    "        progress_bar : bool\n",
    "            Whether or not to create a progress bar which will be updated\n",
    "\n",
    "        Returns\n",
    "        -------\n",
    "        axelrod.ResultSet\n",
    "        \"\"\"\n",
    "        \n",
    "        if progress_bar:\n",
    "            self.progress_bar = tqdm.tqdm(total=len(self.match_generator),\n",
    "                                          desc=\"Playing matches\")\n",
    "\n",
    "        self.setup_output_file(filename)\n",
    "        if not build_results and not filename:\n",
    "            warnings.warn(\"Tournament results will not be accessible since build_results=False and no filename was supplied.\")\n",
    "\n",
    "        if processes is None:\n",
    "            self._run_serial(progress_bar=progress_bar)\n",
    "        else:\n",
    "            self._run_parallel(processes=processes, progress_bar=progress_bar)\n",
    "\n",
    "        if progress_bar:\n",
    "            self.progress_bar.close()\n",
    "\n",
    "        # Make sure that python has finished writing to disk\n",
    "        self.outputfile.flush()\n",
    "\n",
    "        if build_results:\n",
    "            return self._build_result_set(progress_bar=progress_bar)\n",
    "\n",
    "    def _build_result_set(self, progress_bar=True):\n",
    "        \"\"\"\n",
    "        Build the result set (used by the play method)\n",
    "\n",
    "        Returns\n",
    "        -------\n",
    "        axelrod.ResultSet\n",
    "        \"\"\"\n",
    "        result_set = SpatialResultSetFromFile(\n",
    "            filename=self.filename,\n",
    "            progress_bar=progress_bar,\n",
    "            num_interactions=self.num_interactions)\n",
    "        self.outputfile.close()\n",
    "        return result_set"
   ]
  },
  {
   "cell_type": "code",
   "execution_count": 41,
   "metadata": {
    "collapsed": false
   },
   "outputs": [],
   "source": [
    "from collections import defaultdict\n",
    "import csv\n",
    "import tqdm\n",
    "\n",
    "from numpy import mean, nanmedian, std\n",
    "\n",
    "class SpatialResultSetFromFile(axl.ResultSet):\n",
    "    \"\"\"A class to hold the results of a tournament. Reads in a CSV file produced\n",
    "    by the tournament class.\n",
    "    \"\"\"\n",
    "\n",
    "    def __init__(self, filename, progress_bar=True,\n",
    "                 num_interactions=False):\n",
    "        \"\"\"\n",
    "        Parameters\n",
    "        ----------\n",
    "            filename : string\n",
    "                name of a file of the correct file.\n",
    "            progress_bar : bool\n",
    "                Whether or not to create a progress bar which will be updated\n",
    "            num_interactions : int\n",
    "                If the number of interactions is known this helps with\n",
    "                displaying the progress bar, if it is not known and progress_bar\n",
    "                is set to True then an initial count will take place\n",
    "        \"\"\"\n",
    "        self.players, self.interactions = self._read_csv(filename,\n",
    "                                                         progress_bar,\n",
    "                                                         num_interactions)\n",
    "        self.nplayers = len(self.players)\n",
    "        self.nrepetitions = len(list(self.interactions.values())[0])\n",
    "\n",
    "        if progress_bar:\n",
    "            self.progress_bar = tqdm.tqdm(total=19, desc=\"Analysing results\")\n",
    "        else:\n",
    "            self.progress_bar = False\n",
    "\n",
    "        # Calculate all attributes:\n",
    "        self.build_all()\n",
    "\n",
    "    def _read_csv(self, filename, progress_bar=False,\n",
    "                  num_interactions=None):\n",
    "        \"\"\"\n",
    "        Reads from a csv file of the format:\n",
    "\n",
    "        p1index, p2index, p1name, p2name, history1, history2\n",
    "        ...\n",
    "        0, 1, Defector, Cooperator, DDD, CCC\n",
    "        0, 1, Defector, Cooperator, DDD, CCC\n",
    "        0, 1, Defector, Cooperator, DDD, CCC\n",
    "        0, 2, Defector, Alternator, DDD, CDC\n",
    "        0, 2, Defector, Alternator, DDD, CDC\n",
    "        0, 2, Defector, Alternator, DDD, CDC\n",
    "        1, 2, Cooperator, Alternator, CCC, CDC\n",
    "        1, 2, Cooperator, Alternator, CCC, CDC\n",
    "        1, 2, Cooperator, Alternator, CCC, CDC\n",
    "\n",
    "        Parameters\n",
    "        ----------\n",
    "            filename : string\n",
    "                name of a file of the correct file.\n",
    "            progress_bar : bool\n",
    "                Whether or not to create a progress bar which will be updated\n",
    "\n",
    "        Returns\n",
    "        -------\n",
    "\n",
    "            A tuple:\n",
    "                - First element: list of player names\n",
    "                - Second element: interactions (a dictionary mapping player pair\n",
    "                  indices to lists of histories)\n",
    "        \"\"\"\n",
    "        if progress_bar:\n",
    "            if not num_interactions:\n",
    "                # If number of interactions is not known:\n",
    "                num_interactions = sum(1 for line in open(filename))\n",
    "            self.read_progress_bar = tqdm.tqdm(total=num_interactions,\n",
    "                                               desc=\"Reading interactions\")\n",
    "\n",
    "        interactions = defaultdict(list)\n",
    "        players_d = {}\n",
    "        with open(filename, 'r') as f:\n",
    "            for row in csv.reader(f):\n",
    "                index_pair = (int(row[0]), int(row[1]))\n",
    "                players = (row[2], row[3])\n",
    "                interaction = list(zip(row[4], row[5]))\n",
    "                interactions[index_pair].append(interaction)\n",
    "                # Build a dictionary mapping indices to players\n",
    "                # This is temporary to make sure the ordering of the players\n",
    "                # matches the indices\n",
    "                for index, player in zip(index_pair, players):\n",
    "                    if index not in players:\n",
    "                        players_d[index] = player\n",
    "                if progress_bar:\n",
    "                    self.read_progress_bar.update()\n",
    "\n",
    "        if progress_bar:\n",
    "            self.read_progress_bar.close()\n",
    "\n",
    "        # Create an ordered list of players\n",
    "        players = []\n",
    "        for i in index_pair:\n",
    "            players.append(players_d[i])\n",
    "        return players, interactions"
   ]
  },
  {
   "cell_type": "code",
   "execution_count": 42,
   "metadata": {
    "collapsed": true
   },
   "outputs": [],
   "source": [
    "# create some players \n",
    "players = (axl.Cooperator(), axl.Defector(), \n",
    "           axl.TitForTat(), axl.Alternator())"
   ]
  },
  {
   "cell_type": "code",
   "execution_count": 43,
   "metadata": {
    "collapsed": false
   },
   "outputs": [
    {
     "name": "stderr",
     "output_type": "stream",
     "text": []
    }
   ],
   "source": [
    "# run a simple tournament that everybody plays with everybody\n",
    "tournament = axl.Tournament(players, turns=2, repetitions=2)\n",
    "results = tournament.play()"
   ]
  },
  {
   "cell_type": "code",
   "execution_count": 44,
   "metadata": {
    "collapsed": false
   },
   "outputs": [
    {
     "name": "stdout",
     "output_type": "stream",
     "text": [
      "Cooperator vs Defector: [[('C', 'D'), ('C', 'D')], [('C', 'D'), ('C', 'D')]]\n",
      "Defector vs Tit For Tat: [[('D', 'C'), ('D', 'D')], [('D', 'C'), ('D', 'D')]]\n",
      "Cooperator vs Cooperator: [[('C', 'C'), ('C', 'C')], [('C', 'C'), ('C', 'C')]]\n",
      "Tit For Tat vs Alternator: [[('C', 'C'), ('C', 'D')], [('C', 'C'), ('C', 'D')]]\n",
      "Alternator vs Alternator: [[('C', 'C'), ('D', 'D')], [('C', 'C'), ('D', 'D')]]\n",
      "Tit For Tat vs Tit For Tat: [[('C', 'C'), ('C', 'C')], [('C', 'C'), ('C', 'C')]]\n",
      "Defector vs Alternator: [[('D', 'C'), ('D', 'D')], [('D', 'C'), ('D', 'D')]]\n",
      "Cooperator vs Alternator: [[('C', 'C'), ('C', 'D')], [('C', 'C'), ('C', 'D')]]\n",
      "Cooperator vs Tit For Tat: [[('C', 'C'), ('C', 'C')], [('C', 'C'), ('C', 'C')]]\n",
      "Defector vs Defector: [[('D', 'D'), ('D', 'D')], [('D', 'D'), ('D', 'D')]]\n"
     ]
    }
   ],
   "source": [
    "#visualise the iteractions so we can compare to the spatial ones\n",
    "for index_pair, interaction in results.interactions.items():\n",
    "     player1 = tournament.players[index_pair[0]]\n",
    "     player2 = tournament.players[index_pair[1]]\n",
    "     print('%s vs %s: %s' % (player1, player2, interaction)) "
   ]
  },
  {
   "cell_type": "code",
   "execution_count": 45,
   "metadata": {
    "collapsed": false
   },
   "outputs": [],
   "source": [
    "edges = [(1,2)]"
   ]
  },
  {
   "cell_type": "code",
   "execution_count": 46,
   "metadata": {
    "collapsed": false
   },
   "outputs": [],
   "source": [
    "sp=SpatialMatches(players, turns=2, game = None , repetitions=2, edges=edges)"
   ]
  },
  {
   "cell_type": "code",
   "execution_count": 47,
   "metadata": {
    "collapsed": false
   },
   "outputs": [
    {
     "data": {
      "text/plain": [
       "[((1, 2), (2, None, None, 0), 2)]"
      ]
     },
     "execution_count": 47,
     "metadata": {},
     "output_type": "execute_result"
    }
   ],
   "source": [
    "list(sp.build_match_chunks())"
   ]
  },
  {
   "cell_type": "code",
   "execution_count": 48,
   "metadata": {
    "collapsed": false
   },
   "outputs": [],
   "source": [
    "spatial_tournament = SpatialTournament(players, match_generator=sp ,turns=2, repetitions=2)"
   ]
  },
  {
   "cell_type": "code",
   "execution_count": 49,
   "metadata": {
    "collapsed": false
   },
   "outputs": [
    {
     "name": "stderr",
     "output_type": "stream",
     "text": [
      "Analysing results:   0%|          | 0/19 [00:00<?, ?it/s]"
     ]
    },
    {
     "name": "stdout",
     "output_type": "stream",
     "text": [
      "[1, 2, 'Defector', 'Tit For Tat', 'DD', 'CD']\n",
      "[1, 2, 'Defector', 'Tit For Tat', 'DD', 'CD']\n"
     ]
    },
    {
     "ename": "IndexError",
     "evalue": "list assignment index out of range",
     "output_type": "error",
     "traceback": [
      "\u001b[1;31m------------------------------------------------------------------\u001b[0m",
      "\u001b[1;31mIndexError\u001b[0m                       Traceback (most recent call last)",
      "\u001b[1;32m<ipython-input-49-7455798dca7c>\u001b[0m in \u001b[0;36m<module>\u001b[1;34m()\u001b[0m\n\u001b[1;32m----> 1\u001b[1;33m \u001b[0mspatial_results\u001b[0m\u001b[1;33m=\u001b[0m \u001b[0mspatial_tournament\u001b[0m\u001b[1;33m.\u001b[0m\u001b[0mplay\u001b[0m\u001b[1;33m(\u001b[0m\u001b[1;33m)\u001b[0m\u001b[1;33m\u001b[0m\u001b[0m\n\u001b[0m\u001b[0;32m      2\u001b[0m \u001b[1;31m# here we are gettig a error in the result_set.py\u001b[0m\u001b[1;33m\u001b[0m\u001b[1;33m\u001b[0m\u001b[0m\n",
      "\u001b[1;32m<ipython-input-19-98fb6fe63fbd>\u001b[0m in \u001b[0;36mplay\u001b[1;34m(self, build_results, filename, processes, progress_bar)\u001b[0m\n\u001b[0;32m     94\u001b[0m \u001b[1;33m\u001b[0m\u001b[0m\n\u001b[0;32m     95\u001b[0m         \u001b[1;32mif\u001b[0m \u001b[0mbuild_results\u001b[0m\u001b[1;33m:\u001b[0m\u001b[1;33m\u001b[0m\u001b[0m\n\u001b[1;32m---> 96\u001b[1;33m             \u001b[1;32mreturn\u001b[0m \u001b[0mself\u001b[0m\u001b[1;33m.\u001b[0m\u001b[0m_build_result_set\u001b[0m\u001b[1;33m(\u001b[0m\u001b[0mprogress_bar\u001b[0m\u001b[1;33m=\u001b[0m\u001b[0mprogress_bar\u001b[0m\u001b[1;33m)\u001b[0m\u001b[1;33m\u001b[0m\u001b[0m\n\u001b[0m\u001b[0;32m     97\u001b[0m \u001b[1;33m\u001b[0m\u001b[0m\n\u001b[0;32m     98\u001b[0m     \u001b[1;32mdef\u001b[0m \u001b[0m_build_result_set\u001b[0m\u001b[1;33m(\u001b[0m\u001b[0mself\u001b[0m\u001b[1;33m,\u001b[0m \u001b[0mprogress_bar\u001b[0m\u001b[1;33m=\u001b[0m\u001b[1;32mTrue\u001b[0m\u001b[1;33m)\u001b[0m\u001b[1;33m:\u001b[0m\u001b[1;33m\u001b[0m\u001b[0m\n",
      "\u001b[1;32m<ipython-input-19-98fb6fe63fbd>\u001b[0m in \u001b[0;36m_build_result_set\u001b[1;34m(self, progress_bar)\u001b[0m\n\u001b[0;32m    107\u001b[0m             \u001b[0mfilename\u001b[0m\u001b[1;33m=\u001b[0m\u001b[0mself\u001b[0m\u001b[1;33m.\u001b[0m\u001b[0mfilename\u001b[0m\u001b[1;33m,\u001b[0m\u001b[1;33m\u001b[0m\u001b[0m\n\u001b[0;32m    108\u001b[0m             \u001b[0mprogress_bar\u001b[0m\u001b[1;33m=\u001b[0m\u001b[0mprogress_bar\u001b[0m\u001b[1;33m,\u001b[0m\u001b[1;33m\u001b[0m\u001b[0m\n\u001b[1;32m--> 109\u001b[1;33m             num_interactions=self.num_interactions)\n\u001b[0m\u001b[0;32m    110\u001b[0m         \u001b[0mself\u001b[0m\u001b[1;33m.\u001b[0m\u001b[0moutputfile\u001b[0m\u001b[1;33m.\u001b[0m\u001b[0mclose\u001b[0m\u001b[1;33m(\u001b[0m\u001b[1;33m)\u001b[0m\u001b[1;33m\u001b[0m\u001b[0m\n\u001b[0;32m    111\u001b[0m         \u001b[1;32mreturn\u001b[0m \u001b[0mresult_set\u001b[0m\u001b[1;33m\u001b[0m\u001b[0m\n",
      "\u001b[1;32m<ipython-input-41-2eed8b60c39f>\u001b[0m in \u001b[0;36m__init__\u001b[1;34m(self, filename, progress_bar, num_interactions)\u001b[0m\n\u001b[0;32m     36\u001b[0m \u001b[1;33m\u001b[0m\u001b[0m\n\u001b[0;32m     37\u001b[0m         \u001b[1;31m# Calculate all attributes:\u001b[0m\u001b[1;33m\u001b[0m\u001b[1;33m\u001b[0m\u001b[0m\n\u001b[1;32m---> 38\u001b[1;33m         \u001b[0mself\u001b[0m\u001b[1;33m.\u001b[0m\u001b[0mbuild_all\u001b[0m\u001b[1;33m(\u001b[0m\u001b[1;33m)\u001b[0m\u001b[1;33m\u001b[0m\u001b[0m\n\u001b[0m\u001b[0;32m     39\u001b[0m \u001b[1;33m\u001b[0m\u001b[0m\n\u001b[0;32m     40\u001b[0m     def _read_csv(self, filename, progress_bar=False,\n",
      "\u001b[1;32m/home/nikoleta/src/Axelrod/axelrod/result_set.py\u001b[0m in \u001b[0;36mbuild_all\u001b[1;34m(self)\u001b[0m\n\u001b[0;32m     64\u001b[0m         straightforward\"\"\"\n\u001b[0;32m     65\u001b[0m         \u001b[0mself\u001b[0m\u001b[1;33m.\u001b[0m\u001b[0mwins\u001b[0m \u001b[1;33m=\u001b[0m \u001b[0mself\u001b[0m\u001b[1;33m.\u001b[0m\u001b[0mbuild_wins\u001b[0m\u001b[1;33m(\u001b[0m\u001b[1;33m)\u001b[0m\u001b[1;33m\u001b[0m\u001b[0m\n\u001b[1;32m---> 66\u001b[1;33m         \u001b[0mself\u001b[0m\u001b[1;33m.\u001b[0m\u001b[0mmatch_lengths\u001b[0m \u001b[1;33m=\u001b[0m \u001b[0mself\u001b[0m\u001b[1;33m.\u001b[0m\u001b[0mbuild_match_lengths\u001b[0m\u001b[1;33m(\u001b[0m\u001b[1;33m)\u001b[0m\u001b[1;33m\u001b[0m\u001b[0m\n\u001b[0m\u001b[0;32m     67\u001b[0m \u001b[1;33m\u001b[0m\u001b[0m\n\u001b[0;32m     68\u001b[0m         \u001b[0mself\u001b[0m\u001b[1;33m.\u001b[0m\u001b[0mscores\u001b[0m \u001b[1;33m=\u001b[0m \u001b[0mself\u001b[0m\u001b[1;33m.\u001b[0m\u001b[0mbuild_scores\u001b[0m\u001b[1;33m(\u001b[0m\u001b[1;33m)\u001b[0m\u001b[1;33m\u001b[0m\u001b[0m\n",
      "\u001b[1;32m/home/nikoleta/src/Axelrod/axelrod/result_set.py\u001b[0m in \u001b[0;36mwrapper\u001b[1;34m(*args)\u001b[0m\n\u001b[0;32m     20\u001b[0m     \u001b[1;32mdef\u001b[0m \u001b[0mwrapper\u001b[0m\u001b[1;33m(\u001b[0m\u001b[1;33m*\u001b[0m\u001b[0margs\u001b[0m\u001b[1;33m)\u001b[0m\u001b[1;33m:\u001b[0m\u001b[1;33m\u001b[0m\u001b[0m\n\u001b[0;32m     21\u001b[0m         \u001b[1;34m\"\"\"Run the method and update the progress bar if it exists\"\"\"\u001b[0m\u001b[1;33m\u001b[0m\u001b[0m\n\u001b[1;32m---> 22\u001b[1;33m         \u001b[0moutput\u001b[0m \u001b[1;33m=\u001b[0m \u001b[0mmethod\u001b[0m\u001b[1;33m(\u001b[0m\u001b[1;33m*\u001b[0m\u001b[0margs\u001b[0m\u001b[1;33m)\u001b[0m\u001b[1;33m\u001b[0m\u001b[0m\n\u001b[0m\u001b[0;32m     23\u001b[0m \u001b[1;33m\u001b[0m\u001b[0m\n\u001b[0;32m     24\u001b[0m         \u001b[1;32mtry\u001b[0m\u001b[1;33m:\u001b[0m\u001b[1;33m\u001b[0m\u001b[0m\n",
      "\u001b[1;32m/home/nikoleta/src/Axelrod/axelrod/result_set.py\u001b[0m in \u001b[0;36mbuild_match_lengths\u001b[1;34m(self)\u001b[0m\n\u001b[0;32m    130\u001b[0m             \u001b[1;32mfor\u001b[0m \u001b[0mrepetition\u001b[0m\u001b[1;33m,\u001b[0m \u001b[0minteraction\u001b[0m \u001b[1;32min\u001b[0m \u001b[0menumerate\u001b[0m\u001b[1;33m(\u001b[0m\u001b[0mrepetitions\u001b[0m\u001b[1;33m)\u001b[0m\u001b[1;33m:\u001b[0m\u001b[1;33m\u001b[0m\u001b[0m\n\u001b[0;32m    131\u001b[0m                 \u001b[0mplayer\u001b[0m\u001b[1;33m,\u001b[0m \u001b[0mopponent\u001b[0m \u001b[1;33m=\u001b[0m \u001b[0mindex_pair\u001b[0m\u001b[1;33m\u001b[0m\u001b[0m\n\u001b[1;32m--> 132\u001b[1;33m                 \u001b[0mmatch_lengths\u001b[0m\u001b[1;33m[\u001b[0m\u001b[0mrepetition\u001b[0m\u001b[1;33m]\u001b[0m\u001b[1;33m[\u001b[0m\u001b[0mplayer\u001b[0m\u001b[1;33m]\u001b[0m\u001b[1;33m[\u001b[0m\u001b[0mopponent\u001b[0m\u001b[1;33m]\u001b[0m \u001b[1;33m=\u001b[0m \u001b[0mlen\u001b[0m\u001b[1;33m(\u001b[0m\u001b[0minteraction\u001b[0m\u001b[1;33m)\u001b[0m\u001b[1;33m\u001b[0m\u001b[0m\n\u001b[0m\u001b[0;32m    133\u001b[0m \u001b[1;33m\u001b[0m\u001b[0m\n\u001b[0;32m    134\u001b[0m                 \u001b[1;32mif\u001b[0m \u001b[0mplayer\u001b[0m \u001b[1;33m!=\u001b[0m \u001b[0mopponent\u001b[0m\u001b[1;33m:\u001b[0m  \u001b[1;31m# Match lengths are symmetric\u001b[0m\u001b[1;33m\u001b[0m\u001b[0m\n",
      "\u001b[1;31mIndexError\u001b[0m: list assignment index out of range"
     ]
    }
   ],
   "source": [
    "spatial_results= spatial_tournament.play() \n",
    "# here we are gettig a error in the result_set.py "
   ]
  },
  {
   "cell_type": "code",
   "execution_count": 73,
   "metadata": {
    "collapsed": true
   },
   "outputs": [],
   "source": [
    "# Fix various sets of edges, so by using a for loop we can run all those different combinatios\n",
    "# and take a look at the printed results\n",
    "edges = [[(0, 1)], [(1, 2)], [(1, 3)], [(2, 3)], # with one interaction\n",
    "         [(1, 2), (2, 3)], [(0, 1), (1, 3)], [(0, 2), (0, 3)], # with two interactions\n",
    "         [(0, 1), (1, 2), (2, 3)]] #and with three  "
   ]
  },
  {
   "cell_type": "code",
   "execution_count": 84,
   "metadata": {
    "collapsed": false
   },
   "outputs": [
    {
     "ename": "NameError",
     "evalue": "name 'spatial_results' is not defined",
     "output_type": "error",
     "traceback": [
      "\u001b[1;31m------------------------------------------------------------------\u001b[0m",
      "\u001b[1;31mNameError\u001b[0m                        Traceback (most recent call last)",
      "\u001b[1;32m<ipython-input-84-7e089b2f948f>\u001b[0m in \u001b[0;36m<module>\u001b[1;34m()\u001b[0m\n\u001b[0;32m      3\u001b[0m       \u001b[0mspatial_tournament\u001b[0m \u001b[1;33m=\u001b[0m \u001b[0mSpatialTournament\u001b[0m\u001b[1;33m(\u001b[0m\u001b[0mplayers\u001b[0m\u001b[1;33m,\u001b[0m \u001b[0mmatch_generator\u001b[0m\u001b[1;33m=\u001b[0m\u001b[0msp\u001b[0m \u001b[1;33m,\u001b[0m\u001b[0mturns\u001b[0m\u001b[1;33m=\u001b[0m\u001b[1;36m2\u001b[0m\u001b[1;33m,\u001b[0m \u001b[0mrepetitions\u001b[0m\u001b[1;33m=\u001b[0m\u001b[1;36m2\u001b[0m\u001b[1;33m)\u001b[0m\u001b[1;33m\u001b[0m\u001b[0m\n\u001b[0;32m      4\u001b[0m \u001b[1;33m\u001b[0m\u001b[0m\n\u001b[1;32m----> 5\u001b[1;33m       \u001b[0mspatial_results\u001b[0m\u001b[1;33m.\u001b[0m\u001b[0mranked_names\u001b[0m \u001b[1;31m# spatial result is not created due to above error\u001b[0m\u001b[1;33m\u001b[0m\u001b[0m\n\u001b[0m",
      "\u001b[1;31mNameError\u001b[0m: name 'spatial_results' is not defined"
     ]
    }
   ],
   "source": [
    "for i in range(len(edges)):\n",
    "      sp=SpatialMatches(players, turns=2, game = None , repetitions=2, edges=edges[i])\n",
    "      spatial_tournament = SpatialTournament(players, match_generator=sp ,turns=2, repetitions=2)\n",
    "    \n",
    "      spatial_results.ranked_names # spatial result is not created due to above error"
   ]
  },
  {
   "cell_type": "code",
   "execution_count": null,
   "metadata": {
    "collapsed": true
   },
   "outputs": [],
   "source": []
  }
 ],
 "metadata": {
  "kernelspec": {
   "display_name": "Python 3",
   "language": "python",
   "name": "python3"
  },
  "language_info": {
   "codemirror_mode": {
    "name": "ipython",
    "version": 3
   },
   "file_extension": ".py",
   "mimetype": "text/x-python",
   "name": "python",
   "nbconvert_exporter": "python",
   "pygments_lexer": "ipython3",
   "version": "3.5.1+"
  }
 },
 "nbformat": 4,
 "nbformat_minor": 0
}
