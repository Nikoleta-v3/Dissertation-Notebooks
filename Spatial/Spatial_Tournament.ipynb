{
 "cells": [
  {
   "cell_type": "code",
   "execution_count": 54,
   "metadata": {
    "collapsed": true
   },
   "outputs": [],
   "source": [
    "#This notebook is implementing a tournament with spatial topology for the axelrod-python library. \n",
    "#Here will we only run small tournaments with deterministic strategies and will intersect the result using\n",
    "#the simple tournament class for the axelrod library"
   ]
  },
  {
   "cell_type": "code",
   "execution_count": 121,
   "metadata": {
    "collapsed": true
   },
   "outputs": [],
   "source": [
    "#import the axelrod library\n",
    "import axelrod as axl"
   ]
  },
  {
   "cell_type": "code",
   "execution_count": 122,
   "metadata": {
    "collapsed": true
   },
   "outputs": [],
   "source": [
    "# create some players \n",
    "players = (axl.Cooperator(), axl.Defector(), \n",
    "           axl.TitForTat(), axl.Alternator())"
   ]
  },
  {
   "cell_type": "code",
   "execution_count": 123,
   "metadata": {
    "collapsed": false
   },
   "outputs": [
    {
     "name": "stderr",
     "output_type": "stream",
     "text": []
    }
   ],
   "source": [
    "# run a simple tournament that everybody plays with everybody\n",
    "tournament = axl.Tournament(players, turns=2, repetitions=2)\n",
    "results = tournament.play()"
   ]
  },
  {
   "cell_type": "code",
   "execution_count": 124,
   "metadata": {
    "collapsed": false
   },
   "outputs": [
    {
     "name": "stdout",
     "output_type": "stream",
     "text": [
      "Cooperator vs Defector: [[('C', 'D'), ('C', 'D')], [('C', 'D'), ('C', 'D')]]\n",
      "Defector vs Tit For Tat: [[('D', 'C'), ('D', 'D')], [('D', 'C'), ('D', 'D')]]\n",
      "Cooperator vs Cooperator: [[('C', 'C'), ('C', 'C')], [('C', 'C'), ('C', 'C')]]\n",
      "Tit For Tat vs Alternator: [[('C', 'C'), ('C', 'D')], [('C', 'C'), ('C', 'D')]]\n",
      "Alternator vs Alternator: [[('C', 'C'), ('D', 'D')], [('C', 'C'), ('D', 'D')]]\n",
      "Tit For Tat vs Tit For Tat: [[('C', 'C'), ('C', 'C')], [('C', 'C'), ('C', 'C')]]\n",
      "Defector vs Alternator: [[('D', 'C'), ('D', 'D')], [('D', 'C'), ('D', 'D')]]\n",
      "Cooperator vs Alternator: [[('C', 'C'), ('C', 'D')], [('C', 'C'), ('C', 'D')]]\n",
      "Cooperator vs Tit For Tat: [[('C', 'C'), ('C', 'C')], [('C', 'C'), ('C', 'C')]]\n",
      "Defector vs Defector: [[('D', 'D'), ('D', 'D')], [('D', 'D'), ('D', 'D')]]\n"
     ]
    }
   ],
   "source": [
    "#visualise the iteractions so we can compare to the spatial ones\n",
    "for index_pair, interaction in results.interactions.items():\n",
    "    player1 = tournament.players[index_pair[0]]\n",
    "    player2 = tournament.players[index_pair[1]]\n",
    "    print('%s vs %s: %s' % (player1, player2, interaction)) "
   ]
  },
  {
   "cell_type": "code",
   "execution_count": 154,
   "metadata": {
    "collapsed": false
   },
   "outputs": [],
   "source": [
    "#The first test\n",
    "# create some edges \n",
    "edges = [(0, 1), (2, 3)]"
   ]
  },
  {
   "cell_type": "code",
   "execution_count": 155,
   "metadata": {
    "collapsed": false
   },
   "outputs": [],
   "source": [
    "#create a spatial match\n",
    "sp=axl.SpatialMatches(players, turns=2, game = None , repetitions=2, edges=edges)"
   ]
  },
  {
   "cell_type": "code",
   "execution_count": 127,
   "metadata": {
    "collapsed": false
   },
   "outputs": [
    {
     "data": {
      "text/plain": [
       "[((0, 1), (2, None, None, 0), 2), ((2, 3), (2, None, None, 0), 2)]"
      ]
     },
     "execution_count": 127,
     "metadata": {},
     "output_type": "execute_result"
    }
   ],
   "source": [
    "#looking at the chunk, to make sure everything was implement correct.\n",
    "list(sp.build_match_chunks())"
   ]
  },
  {
   "cell_type": "code",
   "execution_count": 128,
   "metadata": {
    "collapsed": false
   },
   "outputs": [],
   "source": [
    "#create a spatial tournament, usuing the SpatialTournament class we implemented\n",
    "spatial_tournament = axl.SpatialTournament(players, match_generator=sp ,turns=2, repetitions=2, edges=edges)"
   ]
  },
  {
   "cell_type": "code",
   "execution_count": 129,
   "metadata": {
    "collapsed": false
   },
   "outputs": [
    {
     "name": "stderr",
     "output_type": "stream",
     "text": [
      "                                                                   "
     ]
    },
    {
     "name": "stdout",
     "output_type": "stream",
     "text": [
      "Cooperator vs Defector: [[('C', 'D'), ('C', 'D')], [('C', 'D'), ('C', 'D')]]\n",
      "Tit For Tat vs Alternator: [[('C', 'C'), ('C', 'D')], [('C', 'C'), ('C', 'D')]]\n"
     ]
    },
    {
     "name": "stderr",
     "output_type": "stream",
     "text": [
      "\r"
     ]
    }
   ],
   "source": [
    "spatial_results= spatial_tournament.play() \n",
    "for index_pair, interaction in spatial_results.interactions.items():\n",
    "    player1 = spatial_tournament.players[index_pair[0]]\n",
    "    player2 = spatial_tournament.players[index_pair[1]]\n",
    "    print('%s vs %s: %s' % (player1, player2, interaction)) "
   ]
  },
  {
   "cell_type": "code",
   "execution_count": 150,
   "metadata": {
    "collapsed": false
   },
   "outputs": [],
   "source": [
    "# Second Test : Playing themselves\n",
    "edges = [(0, 0), (1, 1), (2, 2), (3, 3)]"
   ]
  },
  {
   "cell_type": "code",
   "execution_count": 148,
   "metadata": {
    "collapsed": true
   },
   "outputs": [],
   "source": [
    "# Third test : Value Error in case a player does not compete\n",
    "edges = [(0, 1), (1, 2)]"
   ]
  },
  {
   "cell_type": "code",
   "execution_count": 157,
   "metadata": {
    "collapsed": true
   },
   "outputs": [],
   "source": [
    "# Fourth test\n",
    "edges = [(0, 1), (2, 3)]"
   ]
  },
  {
   "cell_type": "code",
   "execution_count": 158,
   "metadata": {
    "collapsed": false
   },
   "outputs": [
    {
     "name": "stderr",
     "output_type": "stream",
     "text": [
      "                                                                   "
     ]
    },
    {
     "name": "stdout",
     "output_type": "stream",
     "text": [
      "Cooperator vs Defector: [[('C', 'D'), ('C', 'D')], [('C', 'D'), ('C', 'D')]]\n",
      "Tit For Tat vs Alternator: [[('C', 'C'), ('C', 'D')], [('C', 'C'), ('C', 'D')]]\n"
     ]
    },
    {
     "name": "stderr",
     "output_type": "stream",
     "text": [
      "\r"
     ]
    }
   ],
   "source": [
    "#here we create the match class, the tournament class and visualise the results\n",
    "sp=axl.SpatialMatches(players, turns=2, game = None , repetitions=2, edges=edges)\n",
    "spatial_tournament = axl.SpatialTournament(players, match_generator=sp ,turns=2, repetitions=2, edges=edges)\n",
    "spatial_results= spatial_tournament.play() \n",
    "for index_pair, interaction in spatial_results.interactions.items():\n",
    "    player1 = spatial_tournament.players[index_pair[0]]\n",
    "    player2 = spatial_tournament.players[index_pair[1]]\n",
    "    print('%s vs %s: %s' % (player1, player2, interaction)) "
   ]
  },
  {
   "cell_type": "code",
   "execution_count": null,
   "metadata": {
    "collapsed": true
   },
   "outputs": [],
   "source": []
  }
 ],
 "metadata": {
  "kernelspec": {
   "display_name": "Python 3",
   "language": "python",
   "name": "python3"
  },
  "language_info": {
   "codemirror_mode": {
    "name": "ipython",
    "version": 3
   },
   "file_extension": ".py",
   "mimetype": "text/x-python",
   "name": "python",
   "nbconvert_exporter": "python",
   "pygments_lexer": "ipython3",
   "version": "3.5.1+"
  }
 },
 "nbformat": 4,
 "nbformat_minor": 0
}
