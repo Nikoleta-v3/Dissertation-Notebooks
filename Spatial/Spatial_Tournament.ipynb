{
 "cells": [
  {
   "cell_type": "code",
   "execution_count": 2,
   "metadata": {
    "collapsed": true
   },
   "outputs": [],
   "source": [
    "#This notebook is implementing a tournament with spatial topology for the axelrod-python library. \n",
    "#Here will we only run small tournaments with deterministic strategies and will intersect the result using\n",
    "#the simple tournament class for the axelrod library"
   ]
  },
  {
   "cell_type": "code",
   "execution_count": 3,
   "metadata": {
    "collapsed": true
   },
   "outputs": [],
   "source": [
    "#import the axelrod library\n",
    "import axelrod as axl"
   ]
  },
  {
   "cell_type": "code",
   "execution_count": 4,
   "metadata": {
    "collapsed": false
   },
   "outputs": [],
   "source": [
    "#this is a class that generate matches with spatial structure\n",
    "class SpatialMatches(axl.RoundRobinMatches):\n",
    "    \"\"\"A match generator for spatial tournaments\"\"\"\n",
    "    def __init__(self, players, turns, game, repetitions, edges):\n",
    "        self.edges = edges\n",
    "        super(axl.RoundRobinMatches, self).__init__(players, turns, game, repetitions)\n",
    "\n",
    "\n",
    "    def build_match_chunks(self):\n",
    "        for edge in self.edges:\n",
    "            match_params = self.build_single_match_params()\n",
    "            index_pair = edge\n",
    "            yield (index_pair, match_params, self.repetitions)\n",
    "            \n",
    "    def __len__(self):\n",
    "        return  len(self.edges)"
   ]
  },
  {
   "cell_type": "code",
   "execution_count": 52,
   "metadata": {
    "collapsed": true
   },
   "outputs": [],
   "source": [
    "# and this is a tournament class that generates a tournament with spatial structure \n",
    "class SpatialTournament(axl.Tournament):\n",
    "    \"\"\"\n",
    "    A tournament in which the players are allocated in a graph as nodes\n",
    "    and they players only play the others that are connected to with an edge.\n",
    "    \"\"\"\n",
    "\n",
    "    def __init__(self, players, match_generator=SpatialMatches,\n",
    "                 name='axelrod', game=None, turns=200, repetitions=10,\n",
    "                 noise=0,\n",
    "                 with_morality=True):\n",
    "        \"\"\"\n",
    "        Parameters\n",
    "        ----------\n",
    "        players : list\n",
    "            A list of axelrod.Player objects\n",
    "        match_generator : class\n",
    "            A class that must be descended from axelrod.MatchGenerator\n",
    "        name : string\n",
    "            A name for the tournament\n",
    "        game : axelrod.Game\n",
    "            The game object used to score the tournament\n",
    "        edges : dictionary\n",
    "            A dictionary containing the existing edges\n",
    "        repetitions : integer\n",
    "            The number of times the round robin should be repeated\n",
    "        processes : integer\n",
    "            The number of processes to be used for parallel processing\n",
    "        noise : float\n",
    "            The probability that a player's intended action should be flipped\n",
    "        with_morality : boolean\n",
    "            Whether morality metrics should be calculated\n",
    "        \"\"\"\n",
    "        super(SpatialTournament, self).__init__(\n",
    "            players, name=name, game=game, turns=turns,\n",
    "            repetitions=repetitions, noise=noise, with_morality=with_morality)\n",
    "\n",
    "        self.edges = edges\n",
    "        self.match_generator = SpatialMatches(\n",
    "            players, turns, self.game, repetitions, edges)\n",
    "        \n",
    "    def _write_interactions(self, results):\n",
    "        \"\"\"Write the interactions to csv.\"\"\"\n",
    "        for index_pair, interactions in results.items():\n",
    "            for interaction in interactions:\n",
    "                row = list(index_pair)\n",
    "                row.append(str(self.players[index_pair[0]]))\n",
    "                row.append(str(self.players[index_pair[1]]))\n",
    "                history1 = \"\".join([i[0] for i in interaction])\n",
    "                history2 = \"\".join([i[1] for i in interaction])\n",
    "                row.append(history1)\n",
    "                row.append(history2)\n",
    "                self.writer.writerow(row)\n",
    "                print(row) # take a look at what row looks like \n",
    "                self.num_interactions += 1"
   ]
  },
  {
   "cell_type": "code",
   "execution_count": 42,
   "metadata": {
    "collapsed": true
   },
   "outputs": [],
   "source": [
    "# create some players \n",
    "players = (axl.Cooperator(), axl.Defector(), \n",
    "           axl.TitForTat(), axl.Alternator())"
   ]
  },
  {
   "cell_type": "code",
   "execution_count": null,
   "metadata": {
    "collapsed": false
   },
   "outputs": [],
   "source": [
    "# run a simple tournament that everybody plays with everybody\n",
    "tournament = axl.Tournament(players, turns=2, repetitions=2)\n",
    "results = tournament.play()"
   ]
  },
  {
   "cell_type": "code",
   "execution_count": null,
   "metadata": {
    "collapsed": false
   },
   "outputs": [],
   "source": [
    "#visualise the iteractions so we can compare to the spatial ones\n",
    "for index_pair, interaction in results.interactions.items():\n",
    "     player1 = tournament.players[index_pair[0]]\n",
    "     player2 = tournament.players[index_pair[1]]\n",
    "     print('%s vs %s: %s' % (player1, player2, interaction)) "
   ]
  },
  {
   "cell_type": "code",
   "execution_count": 64,
   "metadata": {
    "collapsed": false
   },
   "outputs": [],
   "source": [
    "edges = [(1,2)]"
   ]
  },
  {
   "cell_type": "code",
   "execution_count": 65,
   "metadata": {
    "collapsed": false
   },
   "outputs": [],
   "source": [
    "sp=SpatialMatches(players, turns=2, game = None , repetitions=2, edges=edges)"
   ]
  },
  {
   "cell_type": "code",
   "execution_count": 66,
   "metadata": {
    "collapsed": false
   },
   "outputs": [
    {
     "data": {
      "text/plain": [
       "[((1, 2), (2, None, None, 0), 2)]"
      ]
     },
     "execution_count": 66,
     "metadata": {},
     "output_type": "execute_result"
    }
   ],
   "source": [
    "list(sp.build_match_chunks())"
   ]
  },
  {
   "cell_type": "code",
   "execution_count": 67,
   "metadata": {
    "collapsed": false
   },
   "outputs": [],
   "source": [
    "spatial_tournament = SpatialTournament(players, match_generator=sp ,turns=2, repetitions=2)"
   ]
  },
  {
   "cell_type": "code",
   "execution_count": 68,
   "metadata": {
    "collapsed": false
   },
   "outputs": [
    {
     "name": "stderr",
     "output_type": "stream",
     "text": [
      "                                                           "
     ]
    },
    {
     "name": "stdout",
     "output_type": "stream",
     "text": [
      "[1, 2, 'Defector', 'Tit For Tat', 'DD', 'CD']\n",
      "[1, 2, 'Defector', 'Tit For Tat', 'DD', 'CD']\n"
     ]
    },
    {
     "name": "stderr",
     "output_type": "stream",
     "text": [
      "\r"
     ]
    },
    {
     "ename": "KeyError",
     "evalue": "0",
     "output_type": "error",
     "traceback": [
      "\u001b[1;31m------------------------------------------------------------------\u001b[0m",
      "\u001b[1;31mKeyError\u001b[0m                         Traceback (most recent call last)",
      "\u001b[1;32m<ipython-input-68-7455798dca7c>\u001b[0m in \u001b[0;36m<module>\u001b[1;34m()\u001b[0m\n\u001b[1;32m----> 1\u001b[1;33m \u001b[0mspatial_results\u001b[0m\u001b[1;33m=\u001b[0m \u001b[0mspatial_tournament\u001b[0m\u001b[1;33m.\u001b[0m\u001b[0mplay\u001b[0m\u001b[1;33m(\u001b[0m\u001b[1;33m)\u001b[0m\u001b[1;33m\u001b[0m\u001b[0m\n\u001b[0m\u001b[0;32m      2\u001b[0m \u001b[1;31m# here we are gettig a error in the result_set.py\u001b[0m\u001b[1;33m\u001b[0m\u001b[1;33m\u001b[0m\u001b[0m\n",
      "\u001b[1;32m/home/nikoleta/src/Axelrod/axelrod/tournament.py\u001b[0m in \u001b[0;36mplay\u001b[1;34m(self, build_results, filename, processes, progress_bar)\u001b[0m\n\u001b[0;32m    107\u001b[0m \u001b[1;33m\u001b[0m\u001b[0m\n\u001b[0;32m    108\u001b[0m         \u001b[1;32mif\u001b[0m \u001b[0mbuild_results\u001b[0m\u001b[1;33m:\u001b[0m\u001b[1;33m\u001b[0m\u001b[0m\n\u001b[1;32m--> 109\u001b[1;33m             \u001b[1;32mreturn\u001b[0m \u001b[0mself\u001b[0m\u001b[1;33m.\u001b[0m\u001b[0m_build_result_set\u001b[0m\u001b[1;33m(\u001b[0m\u001b[0mprogress_bar\u001b[0m\u001b[1;33m=\u001b[0m\u001b[0mprogress_bar\u001b[0m\u001b[1;33m)\u001b[0m\u001b[1;33m\u001b[0m\u001b[0m\n\u001b[0m\u001b[0;32m    110\u001b[0m \u001b[1;33m\u001b[0m\u001b[0m\n\u001b[0;32m    111\u001b[0m     \u001b[1;32mdef\u001b[0m \u001b[0m_build_result_set\u001b[0m\u001b[1;33m(\u001b[0m\u001b[0mself\u001b[0m\u001b[1;33m,\u001b[0m \u001b[0mprogress_bar\u001b[0m\u001b[1;33m=\u001b[0m\u001b[1;32mTrue\u001b[0m\u001b[1;33m)\u001b[0m\u001b[1;33m:\u001b[0m\u001b[1;33m\u001b[0m\u001b[0m\n",
      "\u001b[1;32m/home/nikoleta/src/Axelrod/axelrod/tournament.py\u001b[0m in \u001b[0;36m_build_result_set\u001b[1;34m(self, progress_bar)\u001b[0m\n\u001b[0;32m    120\u001b[0m             \u001b[0mfilename\u001b[0m\u001b[1;33m=\u001b[0m\u001b[0mself\u001b[0m\u001b[1;33m.\u001b[0m\u001b[0mfilename\u001b[0m\u001b[1;33m,\u001b[0m\u001b[1;33m\u001b[0m\u001b[0m\n\u001b[0;32m    121\u001b[0m             \u001b[0mprogress_bar\u001b[0m\u001b[1;33m=\u001b[0m\u001b[0mprogress_bar\u001b[0m\u001b[1;33m,\u001b[0m\u001b[1;33m\u001b[0m\u001b[0m\n\u001b[1;32m--> 122\u001b[1;33m             num_interactions=self.num_interactions)\n\u001b[0m\u001b[0;32m    123\u001b[0m         \u001b[0mself\u001b[0m\u001b[1;33m.\u001b[0m\u001b[0moutputfile\u001b[0m\u001b[1;33m.\u001b[0m\u001b[0mclose\u001b[0m\u001b[1;33m(\u001b[0m\u001b[1;33m)\u001b[0m\u001b[1;33m\u001b[0m\u001b[0m\n\u001b[0;32m    124\u001b[0m         \u001b[1;32mreturn\u001b[0m \u001b[0mresult_set\u001b[0m\u001b[1;33m\u001b[0m\u001b[0m\n",
      "\u001b[1;32m/home/nikoleta/src/Axelrod/axelrod/result_set.py\u001b[0m in \u001b[0;36m__init__\u001b[1;34m(self, filename, progress_bar, num_interactions)\u001b[0m\n\u001b[0;32m    724\u001b[0m         self.players, self.interactions = self._read_csv(filename,\n\u001b[0;32m    725\u001b[0m                                                          \u001b[0mprogress_bar\u001b[0m\u001b[1;33m,\u001b[0m\u001b[1;33m\u001b[0m\u001b[0m\n\u001b[1;32m--> 726\u001b[1;33m                                                          num_interactions)\n\u001b[0m\u001b[0;32m    727\u001b[0m         \u001b[0mself\u001b[0m\u001b[1;33m.\u001b[0m\u001b[0mnplayers\u001b[0m \u001b[1;33m=\u001b[0m \u001b[0mlen\u001b[0m\u001b[1;33m(\u001b[0m\u001b[0mself\u001b[0m\u001b[1;33m.\u001b[0m\u001b[0mplayers\u001b[0m\u001b[1;33m)\u001b[0m\u001b[1;33m\u001b[0m\u001b[0m\n\u001b[0;32m    728\u001b[0m         \u001b[0mself\u001b[0m\u001b[1;33m.\u001b[0m\u001b[0mnrepetitions\u001b[0m \u001b[1;33m=\u001b[0m \u001b[0mlen\u001b[0m\u001b[1;33m(\u001b[0m\u001b[0mlist\u001b[0m\u001b[1;33m(\u001b[0m\u001b[0mself\u001b[0m\u001b[1;33m.\u001b[0m\u001b[0minteractions\u001b[0m\u001b[1;33m.\u001b[0m\u001b[0mvalues\u001b[0m\u001b[1;33m(\u001b[0m\u001b[1;33m)\u001b[0m\u001b[1;33m)\u001b[0m\u001b[1;33m[\u001b[0m\u001b[1;36m0\u001b[0m\u001b[1;33m]\u001b[0m\u001b[1;33m)\u001b[0m\u001b[1;33m\u001b[0m\u001b[0m\n",
      "\u001b[1;32m/home/nikoleta/src/Axelrod/axelrod/result_set.py\u001b[0m in \u001b[0;36m_read_csv\u001b[1;34m(self, filename, progress_bar, num_interactions)\u001b[0m\n\u001b[0;32m    798\u001b[0m         \u001b[0mplayers\u001b[0m \u001b[1;33m=\u001b[0m \u001b[1;33m[\u001b[0m\u001b[1;33m]\u001b[0m\u001b[1;33m\u001b[0m\u001b[0m\n\u001b[0;32m    799\u001b[0m         \u001b[1;32mfor\u001b[0m \u001b[0mi\u001b[0m \u001b[1;32min\u001b[0m \u001b[0mrange\u001b[0m\u001b[1;33m(\u001b[0m\u001b[0mlen\u001b[0m\u001b[1;33m(\u001b[0m\u001b[0mplayers_d\u001b[0m\u001b[1;33m)\u001b[0m\u001b[1;33m)\u001b[0m\u001b[1;33m:\u001b[0m\u001b[1;33m\u001b[0m\u001b[0m\n\u001b[1;32m--> 800\u001b[1;33m             \u001b[0mplayers\u001b[0m\u001b[1;33m.\u001b[0m\u001b[0mappend\u001b[0m\u001b[1;33m(\u001b[0m\u001b[0mplayers_d\u001b[0m\u001b[1;33m[\u001b[0m\u001b[0mi\u001b[0m\u001b[1;33m]\u001b[0m\u001b[1;33m)\u001b[0m\u001b[1;33m\u001b[0m\u001b[0m\n\u001b[0m\u001b[0;32m    801\u001b[0m         \u001b[1;32mreturn\u001b[0m \u001b[0mplayers\u001b[0m\u001b[1;33m,\u001b[0m \u001b[0minteractions\u001b[0m\u001b[1;33m\u001b[0m\u001b[0m\n",
      "\u001b[1;31mKeyError\u001b[0m: 0"
     ]
    }
   ],
   "source": [
    "spatial_results= spatial_tournament.play() \n",
    "# here we are gettig a error in the result_set.py "
   ]
  },
  {
   "cell_type": "code",
   "execution_count": 73,
   "metadata": {
    "collapsed": true
   },
   "outputs": [],
   "source": [
    "# Fix various sets of edges, so by using a for loop we can run all those different combinatios\n",
    "# and take a look at the printed results\n",
    "edges = [[(0, 1)], [(1, 2)], [(1, 3)], [(2, 3)], # with one interaction\n",
    "         [(1, 2), (2, 3)], [(0, 1), (1, 3)], [(0, 2), (0, 3)], # with two interactions\n",
    "         [(0, 1), (1, 2), (2, 3)]] #and with three  "
   ]
  },
  {
   "cell_type": "code",
   "execution_count": 84,
   "metadata": {
    "collapsed": false
   },
   "outputs": [
    {
     "ename": "NameError",
     "evalue": "name 'spatial_results' is not defined",
     "output_type": "error",
     "traceback": [
      "\u001b[1;31m------------------------------------------------------------------\u001b[0m",
      "\u001b[1;31mNameError\u001b[0m                        Traceback (most recent call last)",
      "\u001b[1;32m<ipython-input-84-7e089b2f948f>\u001b[0m in \u001b[0;36m<module>\u001b[1;34m()\u001b[0m\n\u001b[0;32m      3\u001b[0m       \u001b[0mspatial_tournament\u001b[0m \u001b[1;33m=\u001b[0m \u001b[0mSpatialTournament\u001b[0m\u001b[1;33m(\u001b[0m\u001b[0mplayers\u001b[0m\u001b[1;33m,\u001b[0m \u001b[0mmatch_generator\u001b[0m\u001b[1;33m=\u001b[0m\u001b[0msp\u001b[0m \u001b[1;33m,\u001b[0m\u001b[0mturns\u001b[0m\u001b[1;33m=\u001b[0m\u001b[1;36m2\u001b[0m\u001b[1;33m,\u001b[0m \u001b[0mrepetitions\u001b[0m\u001b[1;33m=\u001b[0m\u001b[1;36m2\u001b[0m\u001b[1;33m)\u001b[0m\u001b[1;33m\u001b[0m\u001b[0m\n\u001b[0;32m      4\u001b[0m \u001b[1;33m\u001b[0m\u001b[0m\n\u001b[1;32m----> 5\u001b[1;33m       \u001b[0mspatial_results\u001b[0m\u001b[1;33m.\u001b[0m\u001b[0mranked_names\u001b[0m \u001b[1;31m# spatial result is not created due to above error\u001b[0m\u001b[1;33m\u001b[0m\u001b[0m\n\u001b[0m",
      "\u001b[1;31mNameError\u001b[0m: name 'spatial_results' is not defined"
     ]
    }
   ],
   "source": [
    "for i in range(len(edges)):\n",
    "      sp=SpatialMatches(players, turns=2, game = None , repetitions=2, edges=edges[i])\n",
    "      spatial_tournament = SpatialTournament(players, match_generator=sp ,turns=2, repetitions=2)\n",
    "    \n",
    "      spatial_results.ranked_names # spatial result is not created due to above error"
   ]
  },
  {
   "cell_type": "code",
   "execution_count": null,
   "metadata": {
    "collapsed": true
   },
   "outputs": [],
   "source": []
  }
 ],
 "metadata": {
  "kernelspec": {
   "display_name": "Python 3",
   "language": "python",
   "name": "python3"
  },
  "language_info": {
   "codemirror_mode": {
    "name": "ipython",
    "version": 3
   },
   "file_extension": ".py",
   "mimetype": "text/x-python",
   "name": "python",
   "nbconvert_exporter": "python",
   "pygments_lexer": "ipython3",
   "version": "3.5.1+"
  }
 },
 "nbformat": 4,
 "nbformat_minor": 0
}
