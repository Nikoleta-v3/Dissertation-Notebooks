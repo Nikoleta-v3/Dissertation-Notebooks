{
 "cells": [
  {
   "cell_type": "code",
   "execution_count": 1,
   "metadata": {
    "collapsed": true
   },
   "outputs": [],
   "source": [
    "#This notebook is implementing a tournament with spatial topology for the axelrod-python library. \n",
    "#Here will we only run small tournaments with deterministic strategies and will intersect the result using\n",
    "#the simple tournament class for the axelrod library"
   ]
  },
  {
   "cell_type": "code",
   "execution_count": 2,
   "metadata": {
    "collapsed": true
   },
   "outputs": [],
   "source": [
    "#import the axelrod library\n",
    "import axelrod as axl"
   ]
  },
  {
   "cell_type": "code",
   "execution_count": 2,
   "metadata": {
    "collapsed": true
   },
   "outputs": [],
   "source": [
    "# create some players \n",
    "players = (axl.Cooperator(), axl.Defector(), \n",
    "           axl.TitForTat(), axl.Alternator())"
   ]
  },
  {
   "cell_type": "code",
   "execution_count": 3,
   "metadata": {
    "collapsed": false
   },
   "outputs": [
    {
     "name": "stderr",
     "output_type": "stream",
     "text": []
    }
   ],
   "source": [
    "# run a simple tournament that everybody plays with everybody\n",
    "tournament = axl.Tournament(players, turns=2, repetitions=2)\n",
    "results = tournament.play()"
   ]
  },
  {
   "cell_type": "code",
   "execution_count": 4,
   "metadata": {
    "collapsed": false
   },
   "outputs": [
    {
     "name": "stdout",
     "output_type": "stream",
     "text": [
      "Cooperator vs Defector: [[('C', 'D'), ('C', 'D')], [('C', 'D'), ('C', 'D')]]\n",
      "Defector vs Tit For Tat: [[('D', 'C'), ('D', 'D')], [('D', 'C'), ('D', 'D')]]\n",
      "Cooperator vs Cooperator: [[('C', 'C'), ('C', 'C')], [('C', 'C'), ('C', 'C')]]\n",
      "Tit For Tat vs Alternator: [[('C', 'C'), ('C', 'D')], [('C', 'C'), ('C', 'D')]]\n",
      "Alternator vs Alternator: [[('C', 'C'), ('D', 'D')], [('C', 'C'), ('D', 'D')]]\n",
      "Tit For Tat vs Tit For Tat: [[('C', 'C'), ('C', 'C')], [('C', 'C'), ('C', 'C')]]\n",
      "Defector vs Alternator: [[('D', 'C'), ('D', 'D')], [('D', 'C'), ('D', 'D')]]\n",
      "Cooperator vs Alternator: [[('C', 'C'), ('C', 'D')], [('C', 'C'), ('C', 'D')]]\n",
      "Cooperator vs Tit For Tat: [[('C', 'C'), ('C', 'C')], [('C', 'C'), ('C', 'C')]]\n",
      "Defector vs Defector: [[('D', 'D'), ('D', 'D')], [('D', 'D'), ('D', 'D')]]\n"
     ]
    }
   ],
   "source": [
    "#visualise the iteractions so we can compare to the spatial ones\n",
    "for index_pair, interaction in results.interactions.items():\n",
    "    player1 = tournament.players[index_pair[0]]\n",
    "    player2 = tournament.players[index_pair[1]]\n",
    "    print('%s vs %s: %s' % (player1, player2, interaction)) "
   ]
  },
  {
   "cell_type": "code",
   "execution_count": 5,
   "metadata": {
    "collapsed": false
   },
   "outputs": [],
   "source": [
    "#The first test\n",
    "# create some edges \n",
    "edges = [(0, 1),(2, 3)]"
   ]
  },
  {
   "cell_type": "code",
   "execution_count": 6,
   "metadata": {
    "collapsed": false
   },
   "outputs": [
    {
     "ename": "AttributeError",
     "evalue": "module 'axelrod' has no attribute 'SpatialMatches'",
     "output_type": "error",
     "traceback": [
      "\u001b[1;31m---------------------------------------------------------------------------\u001b[0m",
      "\u001b[1;31mAttributeError\u001b[0m                            Traceback (most recent call last)",
      "\u001b[1;32m<ipython-input-6-66144f3e0706>\u001b[0m in \u001b[0;36m<module>\u001b[1;34m()\u001b[0m\n\u001b[0;32m      1\u001b[0m \u001b[1;31m#create a spatial match\u001b[0m\u001b[1;33m\u001b[0m\u001b[1;33m\u001b[0m\u001b[0m\n\u001b[1;32m----> 2\u001b[1;33m \u001b[0msp\u001b[0m\u001b[1;33m=\u001b[0m\u001b[0maxl\u001b[0m\u001b[1;33m.\u001b[0m\u001b[0mSpatialMatches\u001b[0m\u001b[1;33m(\u001b[0m\u001b[0mplayers\u001b[0m\u001b[1;33m,\u001b[0m \u001b[0mturns\u001b[0m\u001b[1;33m=\u001b[0m\u001b[1;36m2\u001b[0m\u001b[1;33m,\u001b[0m \u001b[0mgame\u001b[0m \u001b[1;33m=\u001b[0m \u001b[1;32mNone\u001b[0m \u001b[1;33m,\u001b[0m \u001b[0mrepetitions\u001b[0m\u001b[1;33m=\u001b[0m\u001b[1;36m2\u001b[0m\u001b[1;33m,\u001b[0m \u001b[0medges\u001b[0m\u001b[1;33m=\u001b[0m\u001b[0medges\u001b[0m\u001b[1;33m)\u001b[0m\u001b[1;33m\u001b[0m\u001b[0m\n\u001b[0m",
      "\u001b[1;31mAttributeError\u001b[0m: module 'axelrod' has no attribute 'SpatialMatches'"
     ]
    }
   ],
   "source": [
    "#create a spatial match\n",
    "sp=axl.SpatialMatches(players, turns=2, game = None , repetitions=2, edges=edges)"
   ]
  },
  {
   "cell_type": "code",
   "execution_count": 15,
   "metadata": {
    "collapsed": false
   },
   "outputs": [
    {
     "data": {
      "text/plain": [
       "[((0, 1), (2, None, None, 0), 2),\n",
       " ((1, 2), (2, None, None, 0), 2),\n",
       " ((2, 3), (2, None, None, 0), 2),\n",
       " ((0, 3), (2, None, None, 0), 2)]"
      ]
     },
     "execution_count": 15,
     "metadata": {},
     "output_type": "execute_result"
    }
   ],
   "source": [
    "#looking at the chunk, to make sure everything was implement correct.\n",
    "list(sp.build_match_chunks())"
   ]
  },
  {
   "cell_type": "code",
   "execution_count": 16,
   "metadata": {
    "collapsed": false
   },
   "outputs": [],
   "source": [
    "#create a spatial tournament, usuing the SpatialTournament class we implemented\n",
    "spatial_tournament = axl.SpatialTournament(players, match_generator=sp ,turns=2, repetitions=2, edges=edges)"
   ]
  },
  {
   "cell_type": "code",
   "execution_count": 3,
   "metadata": {
    "collapsed": false
   },
   "outputs": [
    {
     "ename": "NameError",
     "evalue": "name 'players' is not defined",
     "output_type": "error",
     "traceback": [
      "\u001b[1;31m---------------------------------------------------------------------------\u001b[0m",
      "\u001b[1;31mNameError\u001b[0m                                 Traceback (most recent call last)",
      "\u001b[1;32m<ipython-input-3-88b53db32df6>\u001b[0m in \u001b[0;36m<module>\u001b[1;34m()\u001b[0m\n\u001b[1;32m----> 1\u001b[1;33m \u001b[0mspatial_tournament\u001b[0m \u001b[1;33m=\u001b[0m \u001b[0maxl\u001b[0m\u001b[1;33m.\u001b[0m\u001b[0mSpatialTournament\u001b[0m\u001b[1;33m(\u001b[0m\u001b[0mplayers\u001b[0m\u001b[1;33m,\u001b[0m \u001b[0mmatch_generator\u001b[0m\u001b[1;33m=\u001b[0m\u001b[0msp\u001b[0m \u001b[1;33m,\u001b[0m\u001b[0mturns\u001b[0m\u001b[1;33m=\u001b[0m\u001b[1;36m2\u001b[0m\u001b[1;33m,\u001b[0m \u001b[0mrepetitions\u001b[0m\u001b[1;33m=\u001b[0m\u001b[1;36m2\u001b[0m\u001b[1;33m,\u001b[0m \u001b[0medges\u001b[0m\u001b[1;33m=\u001b[0m\u001b[0medges\u001b[0m\u001b[1;33m)\u001b[0m\u001b[1;33m\u001b[0m\u001b[0m\n\u001b[0m\u001b[0;32m      2\u001b[0m \u001b[0mspatial_results\u001b[0m\u001b[1;33m=\u001b[0m \u001b[0mspatial_tournament\u001b[0m\u001b[1;33m.\u001b[0m\u001b[0mplay\u001b[0m\u001b[1;33m(\u001b[0m\u001b[1;33m)\u001b[0m\u001b[1;33m\u001b[0m\u001b[0m\n\u001b[0;32m      3\u001b[0m \u001b[1;32mfor\u001b[0m \u001b[0mindex_pair\u001b[0m\u001b[1;33m,\u001b[0m \u001b[0minteraction\u001b[0m \u001b[1;32min\u001b[0m \u001b[0mspatial_results\u001b[0m\u001b[1;33m.\u001b[0m\u001b[0minteractions\u001b[0m\u001b[1;33m.\u001b[0m\u001b[0mitems\u001b[0m\u001b[1;33m(\u001b[0m\u001b[1;33m)\u001b[0m\u001b[1;33m:\u001b[0m\u001b[1;33m\u001b[0m\u001b[0m\n\u001b[0;32m      4\u001b[0m     \u001b[0mplayer1\u001b[0m \u001b[1;33m=\u001b[0m \u001b[0mspatial_tournament\u001b[0m\u001b[1;33m.\u001b[0m\u001b[0mplayers\u001b[0m\u001b[1;33m[\u001b[0m\u001b[0mindex_pair\u001b[0m\u001b[1;33m[\u001b[0m\u001b[1;36m0\u001b[0m\u001b[1;33m]\u001b[0m\u001b[1;33m]\u001b[0m\u001b[1;33m\u001b[0m\u001b[0m\n\u001b[0;32m      5\u001b[0m     \u001b[0mplayer2\u001b[0m \u001b[1;33m=\u001b[0m \u001b[0mspatial_tournament\u001b[0m\u001b[1;33m.\u001b[0m\u001b[0mplayers\u001b[0m\u001b[1;33m[\u001b[0m\u001b[0mindex_pair\u001b[0m\u001b[1;33m[\u001b[0m\u001b[1;36m1\u001b[0m\u001b[1;33m]\u001b[0m\u001b[1;33m]\u001b[0m\u001b[1;33m\u001b[0m\u001b[0m\n",
      "\u001b[1;31mNameError\u001b[0m: name 'players' is not defined"
     ]
    }
   ],
   "source": [
    "spatial_tournament = axl.SpatialTournament(players, match_generator=sp ,turns=2, repetitions=2, edges=edges)\n",
    "spatial_results= spatial_tournament.play() \n",
    "for index_pair, interaction in spatial_results.interactions.items():\n",
    "    player1 = spatial_tournament.players[index_pair[0]]\n",
    "    player2 = spatial_tournament.players[index_pair[1]]\n",
    "    print('%s vs %s: %s' % (player1, player2, interaction)) "
   ]
  },
  {
   "cell_type": "code",
   "execution_count": 6,
   "metadata": {
    "collapsed": false
   },
   "outputs": [],
   "source": [
    "# Second Test : Playing themselves\n",
    "edges = [(0, 0), (1, 1), (2, 2), (3, 3)]"
   ]
  },
  {
   "cell_type": "code",
   "execution_count": 21,
   "metadata": {
    "collapsed": true
   },
   "outputs": [],
   "source": [
    "# Third test : Value Error in case a player does not compete\n",
    "edges = [(0, 1), (1, 2)]"
   ]
  },
  {
   "cell_type": "code",
   "execution_count": 23,
   "metadata": {
    "collapsed": true
   },
   "outputs": [],
   "source": [
    "# Fourth test\n",
    "edges = [(0, 1), (2, 3)]"
   ]
  },
  {
   "cell_type": "code",
   "execution_count": 24,
   "metadata": {
    "collapsed": false
   },
   "outputs": [
    {
     "name": "stderr",
     "output_type": "stream",
     "text": [
      "                                                                   "
     ]
    },
    {
     "name": "stdout",
     "output_type": "stream",
     "text": [
      "Cooperator vs Defector: [[('C', 'D'), ('C', 'D')], [('C', 'D'), ('C', 'D')]]\n",
      "Tit For Tat vs Alternator: [[('C', 'C'), ('C', 'D')], [('C', 'C'), ('C', 'D')]]\n"
     ]
    },
    {
     "name": "stderr",
     "output_type": "stream",
     "text": [
      "\r"
     ]
    }
   ],
   "source": [
    "#here we create the match class, the tournament class and visualise the results\n",
    "sp=axl.SpatialMatches(players, turns=2, game = None , repetitions=2, edges=edges)\n",
    "spatial_tournament = axl.SpatialTournament(players, match_generator=sp ,turns=2, repetitions=2, edges=edges)\n",
    "spatial_results= spatial_tournament.play() \n",
    "for index_pair, interaction in spatial_results.interactions.items():\n",
    "    player1 = spatial_tournament.players[index_pair[0]]\n",
    "    player2 = spatial_tournament.players[index_pair[1]]\n",
    "    print('%s vs %s: %s' % (player1, player2, interaction)) "
   ]
  }
 ],
 "metadata": {
  "kernelspec": {
   "display_name": "Python 3",
   "language": "python",
   "name": "python3"
  },
  "language_info": {
   "codemirror_mode": {
    "name": "ipython",
    "version": 3
   },
   "file_extension": ".py",
   "mimetype": "text/x-python",
   "name": "python",
   "nbconvert_exporter": "python",
   "pygments_lexer": "ipython3",
   "version": "3.5.1+"
  }
 },
 "nbformat": 4,
 "nbformat_minor": 0
}
