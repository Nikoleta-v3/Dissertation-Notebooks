{
 "cells": [
  {
   "cell_type": "code",
   "execution_count": null,
   "metadata": {
    "collapsed": true
   },
   "outputs": [],
   "source": [
    "import networkx as nx\n",
    "import axelrod as axl\n",
    "import pandas as pd\n",
    "import matplotlib.pyplot as plt"
   ]
  },
  {
   "cell_type": "code",
   "execution_count": null,
   "metadata": {
    "collapsed": true
   },
   "outputs": [],
   "source": [
    "import numpy as np\n",
    "import random\n",
    "%matplotlib inline\n",
    "from networkx.drawing.nx_agraph import graphviz_layout\n",
    "import statsmodels.formula.api as sm"
   ]
  },
  {
   "cell_type": "code",
   "execution_count": null,
   "metadata": {
    "collapsed": true
   },
   "outputs": [],
   "source": [
    "strategies = [s for s in axl.ordinary_strategies if not s().classifier['stochastic']] \n",
    "players = [s() for s in strategies]"
   ]
  },
  {
   "cell_type": "code",
   "execution_count": 3,
   "metadata": {
    "collapsed": false
   },
   "outputs": [],
   "source": [
    "def binomial_random_spatial_touranment(p):\n",
    "    \"\"\"Run a random tournament with a binomial \n",
    "       structure.\n",
    "    \"\"\"\n",
    "    random.seed(seed)\n",
    "    np.random.seed(seed)\n",
    "    G = nx.binomial_graph(len(players), .5)\n",
    "    edges = G.edges()\n",
    "    tournament = axl.SpatialTournament(players, edges=G.edges(), turns = 200, repetitions=5)\n",
    "    return tournament.play(processes=0,\n",
    "                           filename=\"Data/Binomial/Interactions/Binomial_Tournament{}-{}.csv\".format(p, seed))"
   ]
  },
  {
   "cell_type": "code",
   "execution_count": 4,
   "metadata": {
    "collapsed": true
   },
   "outputs": [],
   "source": [
    "def tournament(G,seed,p):\n",
    "    results = binomial_random_spatial_touranment(p, seed)\n",
    "    neighborhood = Neighborhood(G)\n",
    "    nsize = Neighborhood_size(neighborhood)\n",
    "    Degree = list(G.degree(G.nodes()).values())\n",
    "    nscores = NeighborsScores(G, results)\n",
    "    av_nscores = AvNeighborsScore(G, results)\n",
    "    \n",
    "    data = pd.DataFrame({'seed' : i, 'Parameter': p ,'PlayersIndex' : G.nodes(),\n",
    "                         'PlayersName' : results.players, 'Degree' : Degree ,\n",
    "                         'Neighborhood' : neighborhood, 'NeighborhoodSize' : nsize,\n",
    "                         'Ranking' : results.ranking, 'Scores' : results.scores,\n",
    "                         'NormalisedScores' : results.normalised_scores,\n",
    "                         'AverageScore' : [np.median(scores) for scores in results.normalised_scores],\n",
    "                         'NeighborsScore' : nscores, 'AverageNeighborsScore' : av_nscores,\n",
    "                         #'Payoffs' : tournament.game.RPST(),\n",
    "                         'Connectivity' : nx.node_connectivity(G), \n",
    "                         'Clustering' : nx.average_clustering(G)\n",
    "\n",
    "                        })\n",
    "    return data"
   ]
  },
  {
   "cell_type": "code",
   "execution_count": null,
   "metadata": {
    "collapsed": true
   },
   "outputs": [],
   "source": [
    "results = pd.DataFrame()\n",
    "for seed in range(0, 1):\n",
    "    p = seed/100\n",
    "    results = results.append([highschool_tournament(G,seed,p)])\n",
    "\n",
    "results.to_csv(\"/home/nikoleta/Desktop/Highschool.csv\", index=False) "
   ]
  }
 ],
 "metadata": {
  "kernelspec": {
   "display_name": "Python 3",
   "language": "python",
   "name": "python3"
  },
  "language_info": {
   "codemirror_mode": {
    "name": "ipython",
    "version": 3
   },
   "file_extension": ".py",
   "mimetype": "text/x-python",
   "name": "python",
   "nbconvert_exporter": "python",
   "pygments_lexer": "ipython3",
   "version": "3.5.1+"
  }
 },
 "nbformat": 4,
 "nbformat_minor": 0
}
