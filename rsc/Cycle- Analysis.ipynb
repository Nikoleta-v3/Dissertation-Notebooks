{
 "cells": [
  {
   "cell_type": "code",
   "execution_count": 1,
   "metadata": {
    "collapsed": false
   },
   "outputs": [],
   "source": [
    "import networkx as nx\n",
    "import pandas as pd\n",
    "import matplotlib.pyplot as plt\n",
    "import axelrod as axl"
   ]
  },
  {
   "cell_type": "code",
   "execution_count": 2,
   "metadata": {
    "collapsed": true
   },
   "outputs": [],
   "source": [
    "from collections import Counter\n",
    "%matplotlib inline"
   ]
  },
  {
   "cell_type": "code",
   "execution_count": 3,
   "metadata": {
    "collapsed": false
   },
   "outputs": [],
   "source": [
    "import statsmodels.formula.api as sm"
   ]
  },
  {
   "cell_type": "code",
   "execution_count": 4,
   "metadata": {
    "collapsed": true
   },
   "outputs": [],
   "source": [
    "data =  pd.read_csv(\"/home/nikoleta/src/Dissertation-Notebooks/Data/Cycle/Cycle.csv\") "
   ]
  },
  {
   "cell_type": "code",
   "execution_count": 5,
   "metadata": {
    "collapsed": false
   },
   "outputs": [
    {
     "data": {
      "text/html": [
       "<div>\n",
       "<table border=\"1\" class=\"dataframe\">\n",
       "  <thead>\n",
       "    <tr style=\"text-align: right;\">\n",
       "      <th></th>\n",
       "      <th>players_list</th>\n",
       "      <th>seed</th>\n",
       "      <th>parameter</th>\n",
       "      <th>player_name</th>\n",
       "      <th>player_index</th>\n",
       "      <th>degree</th>\n",
       "      <th>neighbors</th>\n",
       "      <th>neighborhood_size</th>\n",
       "      <th>ranking</th>\n",
       "      <th>scores</th>\n",
       "      <th>...</th>\n",
       "      <th>average_score</th>\n",
       "      <th>neighbors_scores</th>\n",
       "      <th>average_neighboorhood_score</th>\n",
       "      <th>R</th>\n",
       "      <th>P</th>\n",
       "      <th>S</th>\n",
       "      <th>T</th>\n",
       "      <th>clustering</th>\n",
       "      <th>connectivity</th>\n",
       "      <th>cliques</th>\n",
       "    </tr>\n",
       "  </thead>\n",
       "  <tbody>\n",
       "    <tr>\n",
       "      <th>0</th>\n",
       "      <td>[ZD-Extort-2 v2, Meta Winner Memory One, Ripof...</td>\n",
       "      <td>0</td>\n",
       "      <td>0.0</td>\n",
       "      <td>ZD-Extort-2 v2</td>\n",
       "      <td>0</td>\n",
       "      <td>2</td>\n",
       "      <td>[1, 99]</td>\n",
       "      <td>2</td>\n",
       "      <td>98</td>\n",
       "      <td>[483, 480, 434, 425, 455]</td>\n",
       "      <td>...</td>\n",
       "      <td>1.1375</td>\n",
       "      <td>[[461, 418, 426, 416, 428], [828, 827, 798, 79...</td>\n",
       "      <td>621.8</td>\n",
       "      <td>3</td>\n",
       "      <td>1</td>\n",
       "      <td>0</td>\n",
       "      <td>5</td>\n",
       "      <td>0.0</td>\n",
       "      <td>2</td>\n",
       "      <td>[[0, 1], [0, 99]]</td>\n",
       "    </tr>\n",
       "    <tr>\n",
       "      <th>1</th>\n",
       "      <td>[ZD-Extort-2 v2, Meta Winner Memory One, Ripof...</td>\n",
       "      <td>0</td>\n",
       "      <td>0.0</td>\n",
       "      <td>Meta Winner Memory One</td>\n",
       "      <td>1</td>\n",
       "      <td>2</td>\n",
       "      <td>[0, 2]</td>\n",
       "      <td>2</td>\n",
       "      <td>10</td>\n",
       "      <td>[461, 418, 426, 416, 428]</td>\n",
       "      <td>...</td>\n",
       "      <td>1.0650</td>\n",
       "      <td>[[483, 480, 434, 425, 455], [779, 773, 773, 77...</td>\n",
       "      <td>614.8</td>\n",
       "      <td>3</td>\n",
       "      <td>1</td>\n",
       "      <td>0</td>\n",
       "      <td>5</td>\n",
       "      <td>0.0</td>\n",
       "      <td>2</td>\n",
       "      <td>[[0, 1], [2, 1]]</td>\n",
       "    </tr>\n",
       "    <tr>\n",
       "      <th>2</th>\n",
       "      <td>[ZD-Extort-2 v2, Meta Winner Memory One, Ripof...</td>\n",
       "      <td>0</td>\n",
       "      <td>0.0</td>\n",
       "      <td>Ripoff</td>\n",
       "      <td>2</td>\n",
       "      <td>2</td>\n",
       "      <td>[1, 3]</td>\n",
       "      <td>2</td>\n",
       "      <td>30</td>\n",
       "      <td>[779, 773, 773, 773, 773]</td>\n",
       "      <td>...</td>\n",
       "      <td>1.9325</td>\n",
       "      <td>[[461, 418, 426, 416, 428], [837, 837, 837, 83...</td>\n",
       "      <td>633.4</td>\n",
       "      <td>3</td>\n",
       "      <td>1</td>\n",
       "      <td>0</td>\n",
       "      <td>5</td>\n",
       "      <td>0.0</td>\n",
       "      <td>2</td>\n",
       "      <td>[[2, 1], [2, 3]]</td>\n",
       "    </tr>\n",
       "    <tr>\n",
       "      <th>3</th>\n",
       "      <td>[ZD-Extort-2 v2, Meta Winner Memory One, Ripof...</td>\n",
       "      <td>0</td>\n",
       "      <td>0.0</td>\n",
       "      <td>Cycler CCCCCD</td>\n",
       "      <td>3</td>\n",
       "      <td>2</td>\n",
       "      <td>[2, 4]</td>\n",
       "      <td>2</td>\n",
       "      <td>86</td>\n",
       "      <td>[837, 837, 837, 837, 837]</td>\n",
       "      <td>...</td>\n",
       "      <td>2.0925</td>\n",
       "      <td>[[779, 773, 773, 773, 773], [1439, 1439, 1439,...</td>\n",
       "      <td>1106.6</td>\n",
       "      <td>3</td>\n",
       "      <td>1</td>\n",
       "      <td>0</td>\n",
       "      <td>5</td>\n",
       "      <td>0.0</td>\n",
       "      <td>2</td>\n",
       "      <td>[[2, 3], [3, 4]]</td>\n",
       "    </tr>\n",
       "    <tr>\n",
       "      <th>4</th>\n",
       "      <td>[ZD-Extort-2 v2, Meta Winner Memory One, Ripof...</td>\n",
       "      <td>0</td>\n",
       "      <td>0.0</td>\n",
       "      <td>Punisher</td>\n",
       "      <td>4</td>\n",
       "      <td>2</td>\n",
       "      <td>[3, 5]</td>\n",
       "      <td>2</td>\n",
       "      <td>4</td>\n",
       "      <td>[1439, 1439, 1439, 1439, 1439]</td>\n",
       "      <td>...</td>\n",
       "      <td>3.5975</td>\n",
       "      <td>[[837, 837, 837, 837, 837], [970, 970, 971, 96...</td>\n",
       "      <td>903.3</td>\n",
       "      <td>3</td>\n",
       "      <td>1</td>\n",
       "      <td>0</td>\n",
       "      <td>5</td>\n",
       "      <td>0.0</td>\n",
       "      <td>2</td>\n",
       "      <td>[[3, 4], [4, 5]]</td>\n",
       "    </tr>\n",
       "  </tbody>\n",
       "</table>\n",
       "<p>5 rows × 21 columns</p>\n",
       "</div>"
      ],
      "text/plain": [
       "                                        players_list  seed  parameter  \\\n",
       "0  [ZD-Extort-2 v2, Meta Winner Memory One, Ripof...     0        0.0   \n",
       "1  [ZD-Extort-2 v2, Meta Winner Memory One, Ripof...     0        0.0   \n",
       "2  [ZD-Extort-2 v2, Meta Winner Memory One, Ripof...     0        0.0   \n",
       "3  [ZD-Extort-2 v2, Meta Winner Memory One, Ripof...     0        0.0   \n",
       "4  [ZD-Extort-2 v2, Meta Winner Memory One, Ripof...     0        0.0   \n",
       "\n",
       "              player_name  player_index  degree neighbors  neighborhood_size  \\\n",
       "0          ZD-Extort-2 v2             0       2   [1, 99]                  2   \n",
       "1  Meta Winner Memory One             1       2    [0, 2]                  2   \n",
       "2                  Ripoff             2       2    [1, 3]                  2   \n",
       "3           Cycler CCCCCD             3       2    [2, 4]                  2   \n",
       "4                Punisher             4       2    [3, 5]                  2   \n",
       "\n",
       "   ranking                          scores        ...         average_score  \\\n",
       "0       98       [483, 480, 434, 425, 455]        ...                1.1375   \n",
       "1       10       [461, 418, 426, 416, 428]        ...                1.0650   \n",
       "2       30       [779, 773, 773, 773, 773]        ...                1.9325   \n",
       "3       86       [837, 837, 837, 837, 837]        ...                2.0925   \n",
       "4        4  [1439, 1439, 1439, 1439, 1439]        ...                3.5975   \n",
       "\n",
       "                                    neighbors_scores  \\\n",
       "0  [[461, 418, 426, 416, 428], [828, 827, 798, 79...   \n",
       "1  [[483, 480, 434, 425, 455], [779, 773, 773, 77...   \n",
       "2  [[461, 418, 426, 416, 428], [837, 837, 837, 83...   \n",
       "3  [[779, 773, 773, 773, 773], [1439, 1439, 1439,...   \n",
       "4  [[837, 837, 837, 837, 837], [970, 970, 971, 96...   \n",
       "\n",
       "  average_neighboorhood_score  R  P  S  T  clustering  connectivity  \\\n",
       "0                       621.8  3  1  0  5         0.0             2   \n",
       "1                       614.8  3  1  0  5         0.0             2   \n",
       "2                       633.4  3  1  0  5         0.0             2   \n",
       "3                      1106.6  3  1  0  5         0.0             2   \n",
       "4                       903.3  3  1  0  5         0.0             2   \n",
       "\n",
       "             cliques  \n",
       "0  [[0, 1], [0, 99]]  \n",
       "1   [[0, 1], [2, 1]]  \n",
       "2   [[2, 1], [2, 3]]  \n",
       "3   [[2, 3], [3, 4]]  \n",
       "4   [[3, 4], [4, 5]]  \n",
       "\n",
       "[5 rows x 21 columns]"
      ]
     },
     "execution_count": 5,
     "metadata": {},
     "output_type": "execute_result"
    }
   ],
   "source": [
    "data.head(5)"
   ]
  },
  {
   "cell_type": "code",
   "execution_count": 7,
   "metadata": {
    "collapsed": false
   },
   "outputs": [],
   "source": [
    "# out of the 132-ordinary players- how many played ?\n",
    "ordinary_players = [s() for s in axl.ordinary_strategies]"
   ]
  },
  {
   "cell_type": "code",
   "execution_count": 8,
   "metadata": {
    "collapsed": false
   },
   "outputs": [
    {
     "data": {
      "text/plain": [
       "132"
      ]
     },
     "execution_count": 8,
     "metadata": {},
     "output_type": "execute_result"
    }
   ],
   "source": [
    "num_players = len(data.player_name.unique())\n",
    "num_players # all strategies played at least once"
   ]
  },
  {
   "cell_type": "code",
   "execution_count": 10,
   "metadata": {
    "collapsed": false
   },
   "outputs": [],
   "source": [
    "participated = data.player_name.value_counts() # how many times each player played"
   ]
  },
  {
   "cell_type": "code",
   "execution_count": 11,
   "metadata": {
    "collapsed": false
   },
   "outputs": [],
   "source": [
    "players_ranking = pd.crosstab(data.player_name, data.ranking) # players and their ranks"
   ]
  },
  {
   "cell_type": "code",
   "execution_count": 12,
   "metadata": {
    "collapsed": true
   },
   "outputs": [],
   "source": [
    "winners = players_ranking[0][players_ranking[0] != 0] # the winners"
   ]
  },
  {
   "cell_type": "code",
   "execution_count": 13,
   "metadata": {
    "collapsed": false
   },
   "outputs": [
    {
     "data": {
      "text/html": [
       "<div>\n",
       "<table border=\"1\" class=\"dataframe\">\n",
       "  <thead>\n",
       "    <tr style=\"text-align: right;\">\n",
       "      <th></th>\n",
       "      <th>seed</th>\n",
       "      <th>parameter</th>\n",
       "      <th>player_index</th>\n",
       "      <th>degree</th>\n",
       "      <th>neighborhood_size</th>\n",
       "      <th>ranking</th>\n",
       "      <th>average_score</th>\n",
       "      <th>average_neighboorhood_score</th>\n",
       "      <th>R</th>\n",
       "      <th>P</th>\n",
       "      <th>S</th>\n",
       "      <th>T</th>\n",
       "      <th>clustering</th>\n",
       "      <th>connectivity</th>\n",
       "    </tr>\n",
       "  </thead>\n",
       "  <tbody>\n",
       "    <tr>\n",
       "      <th>seed</th>\n",
       "      <td>1.000000</td>\n",
       "      <td>1.000000e+00</td>\n",
       "      <td>0.000000e+00</td>\n",
       "      <td>NaN</td>\n",
       "      <td>NaN</td>\n",
       "      <td>0.000000e+00</td>\n",
       "      <td>0.006301</td>\n",
       "      <td>0.009632</td>\n",
       "      <td>NaN</td>\n",
       "      <td>NaN</td>\n",
       "      <td>NaN</td>\n",
       "      <td>NaN</td>\n",
       "      <td>NaN</td>\n",
       "      <td>NaN</td>\n",
       "    </tr>\n",
       "    <tr>\n",
       "      <th>parameter</th>\n",
       "      <td>1.000000</td>\n",
       "      <td>1.000000e+00</td>\n",
       "      <td>-6.480798e-18</td>\n",
       "      <td>NaN</td>\n",
       "      <td>NaN</td>\n",
       "      <td>-3.176444e-18</td>\n",
       "      <td>0.006301</td>\n",
       "      <td>0.009632</td>\n",
       "      <td>NaN</td>\n",
       "      <td>NaN</td>\n",
       "      <td>NaN</td>\n",
       "      <td>NaN</td>\n",
       "      <td>NaN</td>\n",
       "      <td>NaN</td>\n",
       "    </tr>\n",
       "    <tr>\n",
       "      <th>player_index</th>\n",
       "      <td>0.000000</td>\n",
       "      <td>-6.480798e-18</td>\n",
       "      <td>1.000000e+00</td>\n",
       "      <td>NaN</td>\n",
       "      <td>NaN</td>\n",
       "      <td>9.499190e-03</td>\n",
       "      <td>0.009550</td>\n",
       "      <td>0.010416</td>\n",
       "      <td>NaN</td>\n",
       "      <td>NaN</td>\n",
       "      <td>NaN</td>\n",
       "      <td>NaN</td>\n",
       "      <td>NaN</td>\n",
       "      <td>NaN</td>\n",
       "    </tr>\n",
       "    <tr>\n",
       "      <th>degree</th>\n",
       "      <td>NaN</td>\n",
       "      <td>NaN</td>\n",
       "      <td>NaN</td>\n",
       "      <td>NaN</td>\n",
       "      <td>NaN</td>\n",
       "      <td>NaN</td>\n",
       "      <td>NaN</td>\n",
       "      <td>NaN</td>\n",
       "      <td>NaN</td>\n",
       "      <td>NaN</td>\n",
       "      <td>NaN</td>\n",
       "      <td>NaN</td>\n",
       "      <td>NaN</td>\n",
       "      <td>NaN</td>\n",
       "    </tr>\n",
       "    <tr>\n",
       "      <th>neighborhood_size</th>\n",
       "      <td>NaN</td>\n",
       "      <td>NaN</td>\n",
       "      <td>NaN</td>\n",
       "      <td>NaN</td>\n",
       "      <td>NaN</td>\n",
       "      <td>NaN</td>\n",
       "      <td>NaN</td>\n",
       "      <td>NaN</td>\n",
       "      <td>NaN</td>\n",
       "      <td>NaN</td>\n",
       "      <td>NaN</td>\n",
       "      <td>NaN</td>\n",
       "      <td>NaN</td>\n",
       "      <td>NaN</td>\n",
       "    </tr>\n",
       "    <tr>\n",
       "      <th>ranking</th>\n",
       "      <td>0.000000</td>\n",
       "      <td>-3.176444e-18</td>\n",
       "      <td>9.499190e-03</td>\n",
       "      <td>NaN</td>\n",
       "      <td>NaN</td>\n",
       "      <td>1.000000e+00</td>\n",
       "      <td>-0.014217</td>\n",
       "      <td>-0.005254</td>\n",
       "      <td>NaN</td>\n",
       "      <td>NaN</td>\n",
       "      <td>NaN</td>\n",
       "      <td>NaN</td>\n",
       "      <td>NaN</td>\n",
       "      <td>NaN</td>\n",
       "    </tr>\n",
       "    <tr>\n",
       "      <th>average_score</th>\n",
       "      <td>0.006301</td>\n",
       "      <td>6.301487e-03</td>\n",
       "      <td>9.550478e-03</td>\n",
       "      <td>NaN</td>\n",
       "      <td>NaN</td>\n",
       "      <td>-1.421668e-02</td>\n",
       "      <td>1.000000</td>\n",
       "      <td>-0.024438</td>\n",
       "      <td>NaN</td>\n",
       "      <td>NaN</td>\n",
       "      <td>NaN</td>\n",
       "      <td>NaN</td>\n",
       "      <td>NaN</td>\n",
       "      <td>NaN</td>\n",
       "    </tr>\n",
       "    <tr>\n",
       "      <th>average_neighboorhood_score</th>\n",
       "      <td>0.009632</td>\n",
       "      <td>9.631976e-03</td>\n",
       "      <td>1.041576e-02</td>\n",
       "      <td>NaN</td>\n",
       "      <td>NaN</td>\n",
       "      <td>-5.254131e-03</td>\n",
       "      <td>-0.024438</td>\n",
       "      <td>1.000000</td>\n",
       "      <td>NaN</td>\n",
       "      <td>NaN</td>\n",
       "      <td>NaN</td>\n",
       "      <td>NaN</td>\n",
       "      <td>NaN</td>\n",
       "      <td>NaN</td>\n",
       "    </tr>\n",
       "    <tr>\n",
       "      <th>R</th>\n",
       "      <td>NaN</td>\n",
       "      <td>NaN</td>\n",
       "      <td>NaN</td>\n",
       "      <td>NaN</td>\n",
       "      <td>NaN</td>\n",
       "      <td>NaN</td>\n",
       "      <td>NaN</td>\n",
       "      <td>NaN</td>\n",
       "      <td>NaN</td>\n",
       "      <td>NaN</td>\n",
       "      <td>NaN</td>\n",
       "      <td>NaN</td>\n",
       "      <td>NaN</td>\n",
       "      <td>NaN</td>\n",
       "    </tr>\n",
       "    <tr>\n",
       "      <th>P</th>\n",
       "      <td>NaN</td>\n",
       "      <td>NaN</td>\n",
       "      <td>NaN</td>\n",
       "      <td>NaN</td>\n",
       "      <td>NaN</td>\n",
       "      <td>NaN</td>\n",
       "      <td>NaN</td>\n",
       "      <td>NaN</td>\n",
       "      <td>NaN</td>\n",
       "      <td>NaN</td>\n",
       "      <td>NaN</td>\n",
       "      <td>NaN</td>\n",
       "      <td>NaN</td>\n",
       "      <td>NaN</td>\n",
       "    </tr>\n",
       "    <tr>\n",
       "      <th>S</th>\n",
       "      <td>NaN</td>\n",
       "      <td>NaN</td>\n",
       "      <td>NaN</td>\n",
       "      <td>NaN</td>\n",
       "      <td>NaN</td>\n",
       "      <td>NaN</td>\n",
       "      <td>NaN</td>\n",
       "      <td>NaN</td>\n",
       "      <td>NaN</td>\n",
       "      <td>NaN</td>\n",
       "      <td>NaN</td>\n",
       "      <td>NaN</td>\n",
       "      <td>NaN</td>\n",
       "      <td>NaN</td>\n",
       "    </tr>\n",
       "    <tr>\n",
       "      <th>T</th>\n",
       "      <td>NaN</td>\n",
       "      <td>NaN</td>\n",
       "      <td>NaN</td>\n",
       "      <td>NaN</td>\n",
       "      <td>NaN</td>\n",
       "      <td>NaN</td>\n",
       "      <td>NaN</td>\n",
       "      <td>NaN</td>\n",
       "      <td>NaN</td>\n",
       "      <td>NaN</td>\n",
       "      <td>NaN</td>\n",
       "      <td>NaN</td>\n",
       "      <td>NaN</td>\n",
       "      <td>NaN</td>\n",
       "    </tr>\n",
       "    <tr>\n",
       "      <th>clustering</th>\n",
       "      <td>NaN</td>\n",
       "      <td>NaN</td>\n",
       "      <td>NaN</td>\n",
       "      <td>NaN</td>\n",
       "      <td>NaN</td>\n",
       "      <td>NaN</td>\n",
       "      <td>NaN</td>\n",
       "      <td>NaN</td>\n",
       "      <td>NaN</td>\n",
       "      <td>NaN</td>\n",
       "      <td>NaN</td>\n",
       "      <td>NaN</td>\n",
       "      <td>NaN</td>\n",
       "      <td>NaN</td>\n",
       "    </tr>\n",
       "    <tr>\n",
       "      <th>connectivity</th>\n",
       "      <td>NaN</td>\n",
       "      <td>NaN</td>\n",
       "      <td>NaN</td>\n",
       "      <td>NaN</td>\n",
       "      <td>NaN</td>\n",
       "      <td>NaN</td>\n",
       "      <td>NaN</td>\n",
       "      <td>NaN</td>\n",
       "      <td>NaN</td>\n",
       "      <td>NaN</td>\n",
       "      <td>NaN</td>\n",
       "      <td>NaN</td>\n",
       "      <td>NaN</td>\n",
       "      <td>NaN</td>\n",
       "    </tr>\n",
       "  </tbody>\n",
       "</table>\n",
       "</div>"
      ],
      "text/plain": [
       "                                 seed     parameter  player_index  degree  \\\n",
       "seed                         1.000000  1.000000e+00  0.000000e+00     NaN   \n",
       "parameter                    1.000000  1.000000e+00 -6.480798e-18     NaN   \n",
       "player_index                 0.000000 -6.480798e-18  1.000000e+00     NaN   \n",
       "degree                            NaN           NaN           NaN     NaN   \n",
       "neighborhood_size                 NaN           NaN           NaN     NaN   \n",
       "ranking                      0.000000 -3.176444e-18  9.499190e-03     NaN   \n",
       "average_score                0.006301  6.301487e-03  9.550478e-03     NaN   \n",
       "average_neighboorhood_score  0.009632  9.631976e-03  1.041576e-02     NaN   \n",
       "R                                 NaN           NaN           NaN     NaN   \n",
       "P                                 NaN           NaN           NaN     NaN   \n",
       "S                                 NaN           NaN           NaN     NaN   \n",
       "T                                 NaN           NaN           NaN     NaN   \n",
       "clustering                        NaN           NaN           NaN     NaN   \n",
       "connectivity                      NaN           NaN           NaN     NaN   \n",
       "\n",
       "                             neighborhood_size       ranking  average_score  \\\n",
       "seed                                       NaN  0.000000e+00       0.006301   \n",
       "parameter                                  NaN -3.176444e-18       0.006301   \n",
       "player_index                               NaN  9.499190e-03       0.009550   \n",
       "degree                                     NaN           NaN            NaN   \n",
       "neighborhood_size                          NaN           NaN            NaN   \n",
       "ranking                                    NaN  1.000000e+00      -0.014217   \n",
       "average_score                              NaN -1.421668e-02       1.000000   \n",
       "average_neighboorhood_score                NaN -5.254131e-03      -0.024438   \n",
       "R                                          NaN           NaN            NaN   \n",
       "P                                          NaN           NaN            NaN   \n",
       "S                                          NaN           NaN            NaN   \n",
       "T                                          NaN           NaN            NaN   \n",
       "clustering                                 NaN           NaN            NaN   \n",
       "connectivity                               NaN           NaN            NaN   \n",
       "\n",
       "                             average_neighboorhood_score   R   P   S   T  \\\n",
       "seed                                            0.009632 NaN NaN NaN NaN   \n",
       "parameter                                       0.009632 NaN NaN NaN NaN   \n",
       "player_index                                    0.010416 NaN NaN NaN NaN   \n",
       "degree                                               NaN NaN NaN NaN NaN   \n",
       "neighborhood_size                                    NaN NaN NaN NaN NaN   \n",
       "ranking                                        -0.005254 NaN NaN NaN NaN   \n",
       "average_score                                  -0.024438 NaN NaN NaN NaN   \n",
       "average_neighboorhood_score                     1.000000 NaN NaN NaN NaN   \n",
       "R                                                    NaN NaN NaN NaN NaN   \n",
       "P                                                    NaN NaN NaN NaN NaN   \n",
       "S                                                    NaN NaN NaN NaN NaN   \n",
       "T                                                    NaN NaN NaN NaN NaN   \n",
       "clustering                                           NaN NaN NaN NaN NaN   \n",
       "connectivity                                         NaN NaN NaN NaN NaN   \n",
       "\n",
       "                             clustering  connectivity  \n",
       "seed                                NaN           NaN  \n",
       "parameter                           NaN           NaN  \n",
       "player_index                        NaN           NaN  \n",
       "degree                              NaN           NaN  \n",
       "neighborhood_size                   NaN           NaN  \n",
       "ranking                             NaN           NaN  \n",
       "average_score                       NaN           NaN  \n",
       "average_neighboorhood_score         NaN           NaN  \n",
       "R                                   NaN           NaN  \n",
       "P                                   NaN           NaN  \n",
       "S                                   NaN           NaN  \n",
       "T                                   NaN           NaN  \n",
       "clustering                          NaN           NaN  \n",
       "connectivity                        NaN           NaN  "
      ]
     },
     "execution_count": 13,
     "metadata": {},
     "output_type": "execute_result"
    }
   ],
   "source": [
    "data.corr(method='pearson') # a simple pearson correlation table"
   ]
  },
  {
   "cell_type": "code",
   "execution_count": null,
   "metadata": {
    "collapsed": false
   },
   "outputs": [],
   "source": [
    "data.corr(method='spearman') # a simple spearmanS correlation table"
   ]
  },
  {
   "cell_type": "code",
   "execution_count": null,
   "metadata": {
    "collapsed": false
   },
   "outputs": [],
   "source": [
    "# regression \n",
    "rg= sm.ols(formula=\"average_score ~ degree\", data=data).fit()"
   ]
  },
  {
   "cell_type": "code",
   "execution_count": null,
   "metadata": {
    "collapsed": true
   },
   "outputs": [],
   "source": []
  },
  {
   "cell_type": "code",
   "execution_count": null,
   "metadata": {
    "collapsed": false
   },
   "outputs": [],
   "source": [
    "rankings = pd.crosstab(data.player_name, data.ranking)"
   ]
  },
  {
   "cell_type": "code",
   "execution_count": 76,
   "metadata": {
    "collapsed": false
   },
   "outputs": [
    {
     "data": {
      "text/plain": [
       "Index(['players_list', 'seed', 'parameter', 'player_name', 'player_index',\n",
       "       'degree', 'neighbors', 'neighborhood_size', 'ranking', 'scores',\n",
       "       'normalised_scores', 'average_score', 'neighbors_scores',\n",
       "       'average_neighboorhood_score', 'R', 'P', 'S', 'T', 'clustering',\n",
       "       'connectivity', 'cliques'],\n",
       "      dtype='object')"
      ]
     },
     "execution_count": 76,
     "metadata": {},
     "output_type": "execute_result"
    }
   ],
   "source": [
    "data.columns"
   ]
  },
  {
   "cell_type": "code",
   "execution_count": 9,
   "metadata": {
    "collapsed": false
   },
   "outputs": [
    {
     "data": {
      "text/plain": [
       "<matplotlib.axes._subplots.AxesSubplot at 0x7f116963d9b0>"
      ]
     },
     "execution_count": 9,
     "metadata": {},
     "output_type": "execute_result"
    },
    {
     "data": {
      "image/png": "[encoded data removed]",
      "text/plain": [
       "<matplotlib.figure.Figure at 0x7f116963d278>"
      ]
     },
     "metadata": {},
     "output_type": "display_data"
    }
   ],
   "source": [
    "players_ranking.plot(kind='bar', stacked=True, color=['red','blue'], grid=False)"
   ]
  },
  {
   "cell_type": "code",
   "execution_count": null,
   "metadata": {
    "collapsed": true
   },
   "outputs": [],
   "source": []
  },
  {
   "cell_type": "code",
   "execution_count": null,
   "metadata": {
    "collapsed": true
   },
   "outputs": [],
   "source": []
  }
 ],
 "metadata": {
  "kernelspec": {
   "display_name": "Python 3",
   "language": "python",
   "name": "python3"
  },
  "language_info": {
   "codemirror_mode": {
    "name": "ipython",
    "version": 3
   },
   "file_extension": ".py",
   "mimetype": "text/x-python",
   "name": "python",
   "nbconvert_exporter": "python",
   "pygments_lexer": "ipython3",
   "version": "3.4.3"
  }
 },
 "nbformat": 4,
 "nbformat_minor": 0
}
