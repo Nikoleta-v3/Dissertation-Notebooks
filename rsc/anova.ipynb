{
 "cells": [
  {
   "cell_type": "code",
   "execution_count": 1,
   "metadata": {
    "collapsed": true
   },
   "outputs": [],
   "source": [
    "import pandas as pd\n",
    "import numpy as np\n",
    "import random\n",
    "from scipy import stats\n",
    "import matplotlib.pyplot as plt\n",
    "import seaborn\n",
    "%matplotlib inline"
   ]
  },
  {
   "cell_type": "code",
   "execution_count": 5,
   "metadata": {
    "collapsed": false
   },
   "outputs": [],
   "source": [
    "# Making random data for the purpose of this example.\n",
    "random.seed(0)\n",
    "np.random.seed(0)\n",
    "size = 1000\n",
    "number_of_columns = 10\n",
    "random_noise = 10\n",
    "df = pd.DataFrame({k:(np.random.random(size) + random.randint(0, random_noise)) \n",
    "                   for k in range(number_of_columns)})"
   ]
  },
  {
   "cell_type": "code",
   "execution_count": 10,
   "metadata": {
    "collapsed": false
   },
   "outputs": [
    {
     "data": {
      "text/html": [
       "<div>\n",
       "<table border=\"1\" class=\"dataframe\">\n",
       "  <thead>\n",
       "    <tr style=\"text-align: right;\">\n",
       "      <th></th>\n",
       "      <th>0</th>\n",
       "      <th>1</th>\n",
       "      <th>2</th>\n",
       "      <th>3</th>\n",
       "      <th>4</th>\n",
       "      <th>5</th>\n",
       "      <th>6</th>\n",
       "      <th>7</th>\n",
       "      <th>8</th>\n",
       "      <th>9</th>\n",
       "    </tr>\n",
       "  </thead>\n",
       "  <tbody>\n",
       "    <tr>\n",
       "      <th>count</th>\n",
       "      <td>1000.000000</td>\n",
       "      <td>1000.000000</td>\n",
       "      <td>1000.000000</td>\n",
       "      <td>1000.000000</td>\n",
       "      <td>1000.000000</td>\n",
       "      <td>1000.000000</td>\n",
       "      <td>1000.000000</td>\n",
       "      <td>1000.000000</td>\n",
       "      <td>1000.000000</td>\n",
       "      <td>1000.000000</td>\n",
       "    </tr>\n",
       "    <tr>\n",
       "      <th>mean</th>\n",
       "      <td>6.495922</td>\n",
       "      <td>6.511350</td>\n",
       "      <td>0.505448</td>\n",
       "      <td>4.483695</td>\n",
       "      <td>8.488439</td>\n",
       "      <td>7.493393</td>\n",
       "      <td>6.491320</td>\n",
       "      <td>4.494825</td>\n",
       "      <td>7.495352</td>\n",
       "      <td>5.504845</td>\n",
       "    </tr>\n",
       "    <tr>\n",
       "      <th>std</th>\n",
       "      <td>0.290744</td>\n",
       "      <td>0.299108</td>\n",
       "      <td>0.286889</td>\n",
       "      <td>0.286251</td>\n",
       "      <td>0.282093</td>\n",
       "      <td>0.290282</td>\n",
       "      <td>0.285956</td>\n",
       "      <td>0.296249</td>\n",
       "      <td>0.284988</td>\n",
       "      <td>0.293246</td>\n",
       "    </tr>\n",
       "    <tr>\n",
       "      <th>min</th>\n",
       "      <td>6.000546</td>\n",
       "      <td>6.000367</td>\n",
       "      <td>0.000074</td>\n",
       "      <td>4.000072</td>\n",
       "      <td>8.001961</td>\n",
       "      <td>7.000491</td>\n",
       "      <td>6.000851</td>\n",
       "      <td>4.000150</td>\n",
       "      <td>7.000254</td>\n",
       "      <td>5.001297</td>\n",
       "    </tr>\n",
       "    <tr>\n",
       "      <th>25%</th>\n",
       "      <td>6.247613</td>\n",
       "      <td>6.255214</td>\n",
       "      <td>0.271467</td>\n",
       "      <td>4.240161</td>\n",
       "      <td>8.243910</td>\n",
       "      <td>7.241095</td>\n",
       "      <td>6.232470</td>\n",
       "      <td>4.223674</td>\n",
       "      <td>7.249384</td>\n",
       "      <td>5.246891</td>\n",
       "    </tr>\n",
       "    <tr>\n",
       "      <th>50%</th>\n",
       "      <td>6.481323</td>\n",
       "      <td>6.519487</td>\n",
       "      <td>0.500607</td>\n",
       "      <td>4.462550</td>\n",
       "      <td>8.493600</td>\n",
       "      <td>7.490321</td>\n",
       "      <td>6.492362</td>\n",
       "      <td>4.498799</td>\n",
       "      <td>7.493467</td>\n",
       "      <td>5.500271</td>\n",
       "    </tr>\n",
       "    <tr>\n",
       "      <th>75%</th>\n",
       "      <td>6.737260</td>\n",
       "      <td>6.778098</td>\n",
       "      <td>0.756782</td>\n",
       "      <td>4.733752</td>\n",
       "      <td>8.729538</td>\n",
       "      <td>7.749742</td>\n",
       "      <td>6.736860</td>\n",
       "      <td>4.747941</td>\n",
       "      <td>7.742559</td>\n",
       "      <td>5.770889</td>\n",
       "    </tr>\n",
       "    <tr>\n",
       "      <th>max</th>\n",
       "      <td>6.999809</td>\n",
       "      <td>6.998527</td>\n",
       "      <td>0.999964</td>\n",
       "      <td>4.999931</td>\n",
       "      <td>8.997354</td>\n",
       "      <td>7.999957</td>\n",
       "      <td>6.999478</td>\n",
       "      <td>4.999708</td>\n",
       "      <td>7.999978</td>\n",
       "      <td>5.999386</td>\n",
       "    </tr>\n",
       "  </tbody>\n",
       "</table>\n",
       "</div>"
      ],
      "text/plain": [
       "                 0            1            2            3            4  \\\n",
       "count  1000.000000  1000.000000  1000.000000  1000.000000  1000.000000   \n",
       "mean      6.495922     6.511350     0.505448     4.483695     8.488439   \n",
       "std       0.290744     0.299108     0.286889     0.286251     0.282093   \n",
       "min       6.000546     6.000367     0.000074     4.000072     8.001961   \n",
       "25%       6.247613     6.255214     0.271467     4.240161     8.243910   \n",
       "50%       6.481323     6.519487     0.500607     4.462550     8.493600   \n",
       "75%       6.737260     6.778098     0.756782     4.733752     8.729538   \n",
       "max       6.999809     6.998527     0.999964     4.999931     8.997354   \n",
       "\n",
       "                 5            6            7            8            9  \n",
       "count  1000.000000  1000.000000  1000.000000  1000.000000  1000.000000  \n",
       "mean      7.493393     6.491320     4.494825     7.495352     5.504845  \n",
       "std       0.290282     0.285956     0.296249     0.284988     0.293246  \n",
       "min       7.000491     6.000851     4.000150     7.000254     5.001297  \n",
       "25%       7.241095     6.232470     4.223674     7.249384     5.246891  \n",
       "50%       7.490321     6.492362     4.498799     7.493467     5.500271  \n",
       "75%       7.749742     6.736860     4.747941     7.742559     5.770889  \n",
       "max       7.999957     6.999478     4.999708     7.999978     5.999386  "
      ]
     },
     "execution_count": 10,
     "metadata": {},
     "output_type": "execute_result"
    }
   ],
   "source": [
    "df.describe()"
   ]
  },
  {
   "cell_type": "code",
   "execution_count": 11,
   "metadata": {
    "collapsed": false
   },
   "outputs": [
    {
     "name": "stdout",
     "output_type": "stream",
     "text": [
      "The $p$ value is 0.0.\n",
      "The difference between the distributions is statistically significant at the 0.05 level.\n"
     ]
    }
   ],
   "source": [
    "# The Anova:\n",
    "alpha = 0.05\n",
    "f_val, p_val = stats.f_oneway(*[df[k] for k in range(len(df.columns))])\n",
    "\n",
    "print(\"The $p$ value is {}.\".format(p_val))\n",
    "\n",
    "if p_val < alpha:\n",
    "    print(\"The difference between the distributions is statistically significant at the {} level.\".format(alpha))\n",
    "else:\n",
    "    print(\"The difference between the distributions is NOT statistically significant at the {} level.\".format(alpha))"
   ]
  },
  {
   "cell_type": "code",
   "execution_count": 12,
   "metadata": {
    "collapsed": false
   },
   "outputs": [],
   "source": [
    "# Fit line to median of distributions\n",
    "x = range(1, len(df.columns) + 1)\n",
    "y = [np.median(df[col]) for col in df]\n",
    "slope, intercept, r_val, p_val, slope_std_error = stats.linregress(x, y)\n",
    "\n",
    "def line(x):\n",
    "    \"\"\"The regression line\"\"\"\n",
    "    return slope * x + intercept"
   ]
  },
  {
   "cell_type": "code",
   "execution_count": 13,
   "metadata": {
    "collapsed": false
   },
   "outputs": [
    {
     "data": {
      "image/png": "[encoded data removed]",
      "text/plain": [
       "<matplotlib.figure.Figure at 0x11b42a9b0>"
      ]
     },
     "metadata": {},
     "output_type": "display_data"
    }
   ],
   "source": [
    "plt.figure()\n",
    "plt.violinplot([df[col] for col in df]);\n",
    "x1, x2 = plt.xlim()\n",
    "plt.plot((x1, x2), (line(x1), line(x2)), '--',\n",
    "         label=\"$y = {0:.2f}x + {0:.2f}$ ($p={0:.2f}$)\".format(slope, intercept, p_val),\n",
    "         ),\n",
    "plt.legend(loc=4);"
   ]
  },
  {
   "cell_type": "markdown",
   "metadata": {
    "collapsed": true
   },
   "source": [
    "# Here is an example with different sized columns"
   ]
  },
  {
   "cell_type": "code",
   "execution_count": 27,
   "metadata": {
    "collapsed": true
   },
   "outputs": [],
   "source": [
    "# Making random data WITH DIFFERENT NUMBER OF OBSERVATIONS for the purpose of this example.\n",
    "random.seed(0)\n",
    "np.random.seed(0)\n",
    "max_size = 10\n",
    "number_of_columns = 10\n",
    "random_noise = 10\n",
    "dfs = [pd.DataFrame({k:(np.random.random(random.randint(1, max_size)) + random.randint(0, random_noise))}) for k in range(number_of_columns)]\n",
    "df = pd.concat(dfs, ignore_index=True, axis=1)"
   ]
  },
  {
   "cell_type": "code",
   "execution_count": 28,
   "metadata": {
    "collapsed": false
   },
   "outputs": [
    {
     "data": {
      "text/html": [
       "<div>\n",
       "<table border=\"1\" class=\"dataframe\">\n",
       "  <thead>\n",
       "    <tr style=\"text-align: right;\">\n",
       "      <th></th>\n",
       "      <th>0</th>\n",
       "      <th>1</th>\n",
       "      <th>2</th>\n",
       "      <th>3</th>\n",
       "      <th>4</th>\n",
       "      <th>5</th>\n",
       "      <th>6</th>\n",
       "      <th>7</th>\n",
       "      <th>8</th>\n",
       "      <th>9</th>\n",
       "    </tr>\n",
       "  </thead>\n",
       "  <tbody>\n",
       "    <tr>\n",
       "      <th>5</th>\n",
       "      <td>6.645894</td>\n",
       "      <td>NaN</td>\n",
       "      <td>7.925597</td>\n",
       "      <td>4.461479</td>\n",
       "      <td>5.414662</td>\n",
       "      <td>3.616934</td>\n",
       "      <td>2.128926</td>\n",
       "      <td>NaN</td>\n",
       "      <td>NaN</td>\n",
       "      <td>NaN</td>\n",
       "    </tr>\n",
       "    <tr>\n",
       "      <th>6</th>\n",
       "      <td>6.437587</td>\n",
       "      <td>NaN</td>\n",
       "      <td>7.071036</td>\n",
       "      <td>4.780529</td>\n",
       "      <td>5.264556</td>\n",
       "      <td>3.943748</td>\n",
       "      <td>2.315428</td>\n",
       "      <td>NaN</td>\n",
       "      <td>NaN</td>\n",
       "      <td>NaN</td>\n",
       "    </tr>\n",
       "    <tr>\n",
       "      <th>7</th>\n",
       "      <td>NaN</td>\n",
       "      <td>NaN</td>\n",
       "      <td>7.087129</td>\n",
       "      <td>NaN</td>\n",
       "      <td>5.774234</td>\n",
       "      <td>3.681820</td>\n",
       "      <td>2.363711</td>\n",
       "      <td>NaN</td>\n",
       "      <td>NaN</td>\n",
       "      <td>NaN</td>\n",
       "    </tr>\n",
       "    <tr>\n",
       "      <th>8</th>\n",
       "      <td>NaN</td>\n",
       "      <td>NaN</td>\n",
       "      <td>7.020218</td>\n",
       "      <td>NaN</td>\n",
       "      <td>NaN</td>\n",
       "      <td>3.359508</td>\n",
       "      <td>2.570197</td>\n",
       "      <td>NaN</td>\n",
       "      <td>NaN</td>\n",
       "      <td>NaN</td>\n",
       "    </tr>\n",
       "    <tr>\n",
       "      <th>9</th>\n",
       "      <td>NaN</td>\n",
       "      <td>NaN</td>\n",
       "      <td>NaN</td>\n",
       "      <td>NaN</td>\n",
       "      <td>NaN</td>\n",
       "      <td>3.437032</td>\n",
       "      <td>NaN</td>\n",
       "      <td>NaN</td>\n",
       "      <td>NaN</td>\n",
       "      <td>NaN</td>\n",
       "    </tr>\n",
       "  </tbody>\n",
       "</table>\n",
       "</div>"
      ],
      "text/plain": [
       "          0   1         2         3         4         5         6   7   8   9\n",
       "5  6.645894 NaN  7.925597  4.461479  5.414662  3.616934  2.128926 NaN NaN NaN\n",
       "6  6.437587 NaN  7.071036  4.780529  5.264556  3.943748  2.315428 NaN NaN NaN\n",
       "7       NaN NaN  7.087129       NaN  5.774234  3.681820  2.363711 NaN NaN NaN\n",
       "8       NaN NaN  7.020218       NaN       NaN  3.359508  2.570197 NaN NaN NaN\n",
       "9       NaN NaN       NaN       NaN       NaN  3.437032       NaN NaN NaN NaN"
      ]
     },
     "execution_count": 28,
     "metadata": {},
     "output_type": "execute_result"
    }
   ],
   "source": [
    "df.tail()"
   ]
  },
  {
   "cell_type": "code",
   "execution_count": 29,
   "metadata": {
    "collapsed": false
   },
   "outputs": [
    {
     "data": {
      "text/plain": [
       "[7, 1, 9, 7, 8, 10, 9, 5, 2, 5]"
      ]
     },
     "execution_count": 29,
     "metadata": {},
     "output_type": "execute_result"
    }
   ],
   "source": [
    "# Looking at number of items in each column\n",
    "# Note here: `dropna`\n",
    "[len(df[k].dropna()) for k in range(len(df.columns))]"
   ]
  },
  {
   "cell_type": "markdown",
   "metadata": {},
   "source": [
    "Note that one of the columns only has 1 row of data"
   ]
  },
  {
   "cell_type": "code",
   "execution_count": 30,
   "metadata": {
    "collapsed": false
   },
   "outputs": [
    {
     "name": "stdout",
     "output_type": "stream",
     "text": [
      "The $p$ value is 1.2086949268478293e-46.\n",
      "The difference between the distributions is statistically significant at the 0.05 level.\n"
     ]
    }
   ],
   "source": [
    "# The Anova:\n",
    "alpha = 0.05\n",
    "f_val, p_val = stats.f_oneway(*[df[k].dropna() for k in range(len(df.columns))])  # dropna\n",
    "\n",
    "print(\"The $p$ value is {}.\".format(p_val))\n",
    "\n",
    "if p_val < alpha:\n",
    "    print(\"The difference between the distributions is statistically significant at the {} level.\".format(alpha))\n",
    "else:\n",
    "    print(\"The difference between the distributions is NOT statistically significant at the {} level.\".format(alpha))"
   ]
  },
  {
   "cell_type": "code",
   "execution_count": 31,
   "metadata": {
    "collapsed": true
   },
   "outputs": [],
   "source": [
    "# Fit line to median of distributions\n",
    "x = range(1, len(df.columns) + 1)\n",
    "y = [np.median(df[col].dropna()) for col in df]  # dropna\n",
    "slope, intercept, r_val, p_val, slope_std_error = stats.linregress(x, y)\n",
    "\n",
    "def line(x):\n",
    "    \"\"\"The regression line\"\"\"\n",
    "    return slope * x + intercept"
   ]
  },
  {
   "cell_type": "code",
   "execution_count": 32,
   "metadata": {
    "collapsed": false
   },
   "outputs": [
    {
     "data": {
      "image/png": "[encoded data removed]",
      "text/plain": [
       "<matplotlib.figure.Figure at 0x11ac5e828>"
      ]
     },
     "metadata": {},
     "output_type": "display_data"
    }
   ],
   "source": [
    "plt.figure()\n",
    "plt.violinplot([df[col].dropna() for col in df]); # dropna\n",
    "x1, x2 = plt.xlim()\n",
    "plt.plot((x1, x2), (line(x1), line(x2)), '--',\n",
    "         label=\"$y = {0:.2f}x + {0:.2f}$ ($p={0:.2f}$)\".format(slope, intercept, p_val),\n",
    "         ),\n",
    "plt.legend(loc=3);"
   ]
  },
  {
   "cell_type": "code",
   "execution_count": null,
   "metadata": {
    "collapsed": true
   },
   "outputs": [],
   "source": []
  }
 ],
 "metadata": {
  "anaconda-cloud": {},
  "kernelspec": {
   "display_name": "Python [Root]",
   "language": "python",
   "name": "Python [Root]"
  },
  "language_info": {
   "codemirror_mode": {
    "name": "ipython",
    "version": 3
   },
   "file_extension": ".py",
   "mimetype": "text/x-python",
   "name": "python",
   "nbconvert_exporter": "python",
   "pygments_lexer": "ipython3",
   "version": "3.5.2"
  }
 },
 "nbformat": 4,
 "nbformat_minor": 0
}
