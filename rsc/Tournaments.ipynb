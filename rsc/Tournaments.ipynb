{
 "cells": [
  {
   "cell_type": "code",
   "execution_count": 3,
   "metadata": {
    "collapsed": false
   },
   "outputs": [],
   "source": [
    "import networkx as nx   \n",
    "import axelrod as axl  "
   ]
  },
  {
   "cell_type": "code",
   "execution_count": 4,
   "metadata": {
    "collapsed": false
   },
   "outputs": [],
   "source": [
    "import numpy as np\n",
    "import pandas as pd\n",
    "import random\n",
    "#import statsmodels.formula.api as sm"
   ]
  },
  {
   "cell_type": "code",
   "execution_count": 5,
   "metadata": {
    "collapsed": false
   },
   "outputs": [],
   "source": [
    "# The current winning strategies of a round robin tournament in axelrod library.\n",
    "winning_strategies = [axl.Gambler(), axl.EvolvedLookerUp(), axl.DoubleCrosser(), axl.FoolMeOnce(),\n",
    "           axl.Gradual(), axl.BackStabber(), axl.ForgetfulFoolMeOnce(), axl.MetaHunter(),\n",
    "           axl.OmegaTFT(), axl.MetaMajorityLongMemory(), axl.MetaMajorityFiniteMemory(),\n",
    "           axl.Grudger(), axl.MetaMajorityMemoryOne(), axl.MetaWinner(), axl.NiceAverageCopier(),\n",
    "           axl.Shubik(), axl.ZDGTFT2(), axl.SoftGrudger(), axl.SoftJoss(), axl.LimitedRetaliate2()]"
   ]
  },
  {
   "cell_type": "code",
   "execution_count": 6,
   "metadata": {
    "collapsed": true
   },
   "outputs": [],
   "source": [
    "# ordinary strategies of axelrod\n",
    "ordinary_players = [s() for s in axl.ordinary_strategies]"
   ]
  },
  {
   "cell_type": "code",
   "execution_count": 7,
   "metadata": {
    "collapsed": false
   },
   "outputs": [],
   "source": [
    "# random strategies of the ordinary strategies\n",
    "random_players = random.sample(ordinary_players, 10)"
   ]
  },
  {
   "cell_type": "code",
   "execution_count": 8,
   "metadata": {
    "collapsed": true
   },
   "outputs": [],
   "source": [
    "def Neighbors(G):\n",
    "    \"\"\"\n",
    "    Returns a list with the neighbors of a player.\n",
    "    \n",
    "    By neighbors we mean the players a player\n",
    "    interacts with.\n",
    "    \"\"\"\n",
    "    Neighbors = []\n",
    "    for i in range(len(players)) : Neighbors.append(G.neighbors(i))\n",
    "    return Neighbors"
   ]
  },
  {
   "cell_type": "code",
   "execution_count": 9,
   "metadata": {
    "collapsed": true
   },
   "outputs": [],
   "source": [
    "def Neighborhood_size (Neighborhood) :\n",
    "    \"\"\"\n",
    "    Returns the size of the neighborhood of a\n",
    "    player.\n",
    "    \"\"\"\n",
    "    Neighborhood_size = []\n",
    "    for i in range(len(Neighborhood)) : Neighborhood_size.append(len(Neighborhood[i]))\n",
    "    return Neighborhood_size"
   ]
  },
  {
   "cell_type": "code",
   "execution_count": 10,
   "metadata": {
    "collapsed": true
   },
   "outputs": [],
   "source": [
    "def Neighbors_Scores(G, results):\n",
    "    \"\"\"\n",
    "    Returns a list with the scores of the \n",
    "    neighbors.\n",
    "    \"\"\"\n",
    "    return [[results.scores[j] for j in G.neighbors(i)]\n",
    "            for i, pl in enumerate(players)]"
   ]
  },
  {
   "cell_type": "code",
   "execution_count": 11,
   "metadata": {
    "collapsed": true
   },
   "outputs": [],
   "source": [
    "def Average_Neighborhood_Score(G, results) :\n",
    "    \"\"\"\n",
    "    Returns the average score of the\n",
    "    sum of the neighbors scores.\n",
    "    \n",
    "    Thus, the average score of the neighborhood.    \n",
    "    \"\"\"\n",
    "    av_score = []\n",
    "    temp = [[j for m in G.neighbors(k) for j in results.scores[m]]\n",
    "              for k in G.nodes()]\n",
    "    for i in G.nodes() :\n",
    "        av_score.append(np.mean(temp[i]))\n",
    "    return av_score"
   ]
  },
  {
   "cell_type": "code",
   "execution_count": 19,
   "metadata": {
    "collapsed": true
   },
   "outputs": [],
   "source": [
    "def Cliques(G) :\n",
    "    nx.find_cliques(G)\n",
    "    \n",
    "    cliques = []\n",
    "    for i in G.nodes() : \n",
    "        cliques.append(nx.cliques_containing_node(G, i))\n",
    "    return cliques\n",
    "    "
   ]
  },
  {
   "cell_type": "code",
   "execution_count": 20,
   "metadata": {
    "collapsed": false
   },
   "outputs": [],
   "source": [
    "def touranment(G, p, seed):\n",
    "    \"\"\"\n",
    "    Run a spatial tournament with a topology\n",
    "    of any given graph. Return the results.\n",
    "    \"\"\"\n",
    "    # set seed the tournament. \n",
    "    random.seed(seed)\n",
    "    np.random.seed(seed)\n",
    "    edges = G.edges()\n",
    "    \n",
    "    # create tournament\n",
    "    tournament = axl.SpatialTournament(players, edges=G.edges(), turns = 200, repetitions=5)\n",
    "    \n",
    "    # play the tournament. Return the results.\n",
    "    return tournament.play(processes=0)\n",
    "                           #filename=\"/home/nikoleta/src/Dissertation-Notebooks/Data/Watts Strogatz/Watts_Strogatz-8-{}-{}.csv\".format(p, seed))"
   ]
  },
  {
   "cell_type": "code",
   "execution_count": 21,
   "metadata": {
    "collapsed": false
   },
   "outputs": [],
   "source": [
    "def tournament_results(G, seed,p):\n",
    "    \"\"\"\n",
    "    Creates a data frame with parameters of the tournament.\n",
    "    \n",
    "    Parameters\n",
    "    ----------\n",
    "    players_list : list\n",
    "            A list with the players participating in the tournament\n",
    "    seed : integer\n",
    "            A seed for the tournament and graph\n",
    "    player_index : integer\n",
    "            A players index number\n",
    "    player_name : character\n",
    "            The name of the player           \n",
    "    degree : integer\n",
    "            THe degree of the graph\n",
    "    neighbors : list\n",
    "            A list with the player's neighbors index number\n",
    "    neighborhood_size: integer\n",
    "            The size of the neighborhood, should be eqaul with the degree\n",
    "   \n",
    "    \"\"\"\n",
    "    # generate the tournament and the results\n",
    "    results = touranment(G, p, seed)\n",
    "    \n",
    "    # parameters \n",
    "    neighborhood = Neighbors(G)\n",
    "    nsize = Neighborhood_size(neighborhood)\n",
    "    degree = list(G.degree(G.nodes()).values())\n",
    "    nscores = Neighbors_Scores(G, results)\n",
    "    av_nscores = Average_Neighborhood_Score(G, results)\n",
    "    cliques = Cliques(G)\n",
    "    \n",
    "    \n",
    "    # create data frame\n",
    "    data = pd.DataFrame({'players_list' : [players for _ in results.players],\n",
    "                         'seed' : seed, 'parameter': p ,'player_index' : G.nodes(),\n",
    "                         'player_name' : results.players, 'degree' : degree ,\n",
    "                         'neighbors' : neighborhood, 'neighborhood_size' : nsize,\n",
    "                         'ranking' : results.ranking, 'scores' : results.scores,\n",
    "                         'normalised_scores' : results.normalised_scores,\n",
    "                         'average_score' : [np.median(scores) for scores in results.normalised_scores],\n",
    "                         'neighbors_scores' : nscores, 'average_neighboorhood_score' : av_nscores,\n",
    "                         'R' : [list(results.game.RPST())[0] for _ in results.players],\n",
    "                         'P' : [list(results.game.RPST())[1] for _ in results.players],\n",
    "                         'S' : [list(results.game.RPST())[2] for _ in results.players],\n",
    "                         'T' : [list(results.game.RPST())[3] for _ in results.players],\n",
    "                         'connectivity' : nx.node_connectivity(G), \n",
    "                         'clustering' : nx.average_clustering(G),\n",
    "                         'cliques' : cliques\n",
    "                        })\n",
    "   \n",
    "    return data"
   ]
  },
  {
   "cell_type": "code",
   "execution_count": 68,
   "metadata": {
    "collapsed": false
   },
   "outputs": [],
   "source": [
    "nx.find_cliques(G)"
   ]
  },
  {
   "cell_type": "code",
   "execution_count": 80,
   "metadata": {
    "collapsed": false
   },
   "outputs": [],
   "source": [
    "for i in G.nodes() : k = nx.cliques_containing_node(G, i)"
   ]
  },
  {
   "cell_type": "code",
   "execution_count": 81,
   "metadata": {
    "collapsed": false
   },
   "outputs": [
    {
     "data": {
      "text/plain": [
       "[[0, 128, 129, 130, 131],\n",
       " [0, 1, 129, 130, 131],\n",
       " [0, 1, 2, 130, 131],\n",
       " [0, 1, 2, 3, 131],\n",
       " [127, 128, 129, 130, 131]]"
      ]
     },
     "execution_count": 81,
     "metadata": {},
     "output_type": "execute_result"
    }
   ],
   "source": [
    "k"
   ]
  },
  {
   "cell_type": "code",
   "execution_count": 71,
   "metadata": {
    "collapsed": false
   },
   "outputs": [
    {
     "data": {
      "text/plain": [
       "<generator object enumerate_all_cliques at 0x7fd78e6a9048>"
      ]
     },
     "execution_count": 71,
     "metadata": {},
     "output_type": "execute_result"
    }
   ],
   "source": [
    "nx.enumerate_all_cliques(G)"
   ]
  },
  {
   "cell_type": "code",
   "execution_count": 22,
   "metadata": {
    "collapsed": true
   },
   "outputs": [],
   "source": [
    "# define the players\n",
    "players = random_players"
   ]
  },
  {
   "cell_type": "code",
   "execution_count": 23,
   "metadata": {
    "collapsed": true
   },
   "outputs": [],
   "source": [
    "cols = ['players_list', 'seed', 'parameter', 'player_name', 'player_index', \n",
    "        'degree', 'neighbors', 'neighborhood_size', 'ranking', 'scores',\n",
    "        'normalised_scores',  'average_score', 'neighbors_scores',\n",
    "        'average_neighboorhood_score', 'R', 'P', 'S', 'T', \n",
    "        'clustering', 'connectivity', 'cliques']"
   ]
  },
  {
   "cell_type": "code",
   "execution_count": 17,
   "metadata": {
    "collapsed": false
   },
   "outputs": [
    {
     "ename": "NameError",
     "evalue": "name 'nodes' is not defined",
     "output_type": "error",
     "traceback": [
      "\u001b[1;31m---------------------------------------------------------------------------\u001b[0m",
      "\u001b[1;31mNameError\u001b[0m                                 Traceback (most recent call last)",
      "\u001b[1;32m<ipython-input-17-8208dce504ea>\u001b[0m in \u001b[0;36m<module>\u001b[1;34m()\u001b[0m\n\u001b[0;32m      1\u001b[0m \u001b[1;31m# for the binomial graphs\u001b[0m\u001b[1;33m\u001b[0m\u001b[1;33m\u001b[0m\u001b[0m\n\u001b[1;32m----> 2\u001b[1;33m \u001b[1;32mwhile\u001b[0m \u001b[0mnodes\u001b[0m \u001b[1;33m!=\u001b[0m \u001b[0mlist\u001b[0m\u001b[1;33m(\u001b[0m\u001b[0mrange\u001b[0m\u001b[1;33m(\u001b[0m\u001b[0mlen\u001b[0m\u001b[1;33m(\u001b[0m\u001b[0mplayers\u001b[0m\u001b[1;33m)\u001b[0m\u001b[1;33m)\u001b[0m\u001b[1;33m)\u001b[0m\u001b[1;33m:\u001b[0m\u001b[1;33m\u001b[0m\u001b[0m\n\u001b[0m\u001b[0;32m      3\u001b[0m     \u001b[0mG\u001b[0m \u001b[1;33m=\u001b[0m \u001b[0mnx\u001b[0m\u001b[1;33m.\u001b[0m\u001b[0mbinomial_graph\u001b[0m\u001b[1;33m(\u001b[0m\u001b[0mlen\u001b[0m\u001b[1;33m(\u001b[0m\u001b[0mplayers\u001b[0m\u001b[1;33m)\u001b[0m\u001b[1;33m,\u001b[0m \u001b[0mp\u001b[0m\u001b[1;33m=\u001b[0m\u001b[1;36m.1\u001b[0m\u001b[1;33m)\u001b[0m\u001b[1;33m\u001b[0m\u001b[0m\n\u001b[0;32m      4\u001b[0m     \u001b[0mnodes\u001b[0m \u001b[1;33m=\u001b[0m \u001b[0mlist\u001b[0m\u001b[1;33m(\u001b[0m\u001b[0mset\u001b[0m\u001b[1;33m(\u001b[0m\u001b[1;33m[\u001b[0m\u001b[0mnode\u001b[0m \u001b[1;32mfor\u001b[0m \u001b[0medge\u001b[0m \u001b[1;32min\u001b[0m \u001b[0mG\u001b[0m\u001b[1;33m.\u001b[0m\u001b[0medges\u001b[0m\u001b[1;33m(\u001b[0m\u001b[1;33m)\u001b[0m \u001b[1;32mfor\u001b[0m \u001b[0mnode\u001b[0m \u001b[1;32min\u001b[0m \u001b[0medge\u001b[0m\u001b[1;33m]\u001b[0m\u001b[1;33m)\u001b[0m\u001b[1;33m)\u001b[0m\u001b[1;33m\u001b[0m\u001b[0m\n",
      "\u001b[1;31mNameError\u001b[0m: name 'nodes' is not defined"
     ]
    }
   ],
   "source": [
    "# for the binomial graphs\n",
    "while nodes != list(range(len(players))): \n",
    "    G = nx.binomial_graph(len(players), p=.1)\n",
    "    nodes = list(set([node for edge in G.edges() for node in edge]))"
   ]
  },
  {
   "cell_type": "code",
   "execution_count": 24,
   "metadata": {
    "collapsed": false
   },
   "outputs": [
    {
     "name": "stderr",
     "output_type": "stream",
     "text": []
    }
   ],
   "source": [
    "results = pd.DataFrame()\n",
    "for seed in range(0, 1):\n",
    "    \n",
    "    np.random.seed(seed)\n",
    "    p = seed/100\n",
    "    \n",
    "    # define the graph \n",
    "    G = nx.watts_strogatz_graph (len(players), 8, p)\n",
    "    \n",
    "    results = results.append([tournament_results(G, seed,p)])\n",
    "\n",
    "results = results[cols]\n",
    "#results.to_csv(\"/home/nikoleta/src/Dissertation-Notebooks/Data/Watts Strogatz/Watts_Strogatz_Eight_Tournament.csv\", index=False) \n"
   ]
  },
  {
   "cell_type": "code",
   "execution_count": 25,
   "metadata": {
    "collapsed": false
   },
   "outputs": [
    {
     "data": {
      "text/html": [
       "<div>\n",
       "<table border=\"1\" class=\"dataframe\">\n",
       "  <thead>\n",
       "    <tr style=\"text-align: right;\">\n",
       "      <th></th>\n",
       "      <th>players_list</th>\n",
       "      <th>seed</th>\n",
       "      <th>parameter</th>\n",
       "      <th>player_name</th>\n",
       "      <th>player_index</th>\n",
       "      <th>degree</th>\n",
       "      <th>neighbors</th>\n",
       "      <th>neighborhood_size</th>\n",
       "      <th>ranking</th>\n",
       "      <th>scores</th>\n",
       "      <th>...</th>\n",
       "      <th>average_score</th>\n",
       "      <th>neighbors_scores</th>\n",
       "      <th>average_neighboorhood_score</th>\n",
       "      <th>R</th>\n",
       "      <th>P</th>\n",
       "      <th>S</th>\n",
       "      <th>T</th>\n",
       "      <th>clustering</th>\n",
       "      <th>connectivity</th>\n",
       "      <th>cliques</th>\n",
       "    </tr>\n",
       "  </thead>\n",
       "  <tbody>\n",
       "    <tr>\n",
       "      <th>0</th>\n",
       "      <td>[Limited Retaliate (0.05/20), Meta Majority Me...</td>\n",
       "      <td>0</td>\n",
       "      <td>0.0</td>\n",
       "      <td>Limited Retaliate (0.05/20)</td>\n",
       "      <td>0</td>\n",
       "      <td>8</td>\n",
       "      <td>[1, 2, 3, 4, 6, 7, 8, 9]</td>\n",
       "      <td>8</td>\n",
       "      <td>2</td>\n",
       "      <td>[3514, 3538, 3515, 3529, 3517]</td>\n",
       "      <td>...</td>\n",
       "      <td>2.198125</td>\n",
       "      <td>[[3484, 3841, 3761, 3756, 3964], [4059, 4231, ...</td>\n",
       "      <td>3500.075</td>\n",
       "      <td>3</td>\n",
       "      <td>1</td>\n",
       "      <td>0</td>\n",
       "      <td>5</td>\n",
       "      <td>0.857143</td>\n",
       "      <td>8</td>\n",
       "      <td>[[0, 1, 2, 8, 9], [0, 1, 2, 8, 4], [0, 1, 2, 3...</td>\n",
       "    </tr>\n",
       "    <tr>\n",
       "      <th>1</th>\n",
       "      <td>[Limited Retaliate (0.05/20), Meta Majority Me...</td>\n",
       "      <td>0</td>\n",
       "      <td>0.0</td>\n",
       "      <td>Meta Majority Memory One</td>\n",
       "      <td>1</td>\n",
       "      <td>8</td>\n",
       "      <td>[0, 2, 3, 4, 5, 7, 8, 9]</td>\n",
       "      <td>8</td>\n",
       "      <td>9</td>\n",
       "      <td>[3484, 3841, 3761, 3756, 3964]</td>\n",
       "      <td>...</td>\n",
       "      <td>2.350625</td>\n",
       "      <td>[[3514, 3538, 3515, 3529, 3517], [4059, 4231, ...</td>\n",
       "      <td>3381.650</td>\n",
       "      <td>3</td>\n",
       "      <td>1</td>\n",
       "      <td>0</td>\n",
       "      <td>5</td>\n",
       "      <td>0.857143</td>\n",
       "      <td>8</td>\n",
       "      <td>[[0, 1, 2, 8, 9], [0, 1, 2, 8, 4], [0, 1, 2, 3...</td>\n",
       "    </tr>\n",
       "    <tr>\n",
       "      <th>2</th>\n",
       "      <td>[Limited Retaliate (0.05/20), Meta Majority Me...</td>\n",
       "      <td>0</td>\n",
       "      <td>0.0</td>\n",
       "      <td>Prober</td>\n",
       "      <td>2</td>\n",
       "      <td>8</td>\n",
       "      <td>[0, 1, 3, 4, 5, 6, 8, 9]</td>\n",
       "      <td>8</td>\n",
       "      <td>6</td>\n",
       "      <td>[4059, 4231, 4321, 4327, 4031]</td>\n",
       "      <td>...</td>\n",
       "      <td>2.644375</td>\n",
       "      <td>[[3514, 3538, 3515, 3529, 3517], [3484, 3841, ...</td>\n",
       "      <td>3344.150</td>\n",
       "      <td>3</td>\n",
       "      <td>1</td>\n",
       "      <td>0</td>\n",
       "      <td>5</td>\n",
       "      <td>0.857143</td>\n",
       "      <td>8</td>\n",
       "      <td>[[0, 1, 2, 8, 9], [0, 1, 2, 8, 4], [0, 1, 2, 3...</td>\n",
       "    </tr>\n",
       "    <tr>\n",
       "      <th>3</th>\n",
       "      <td>[Limited Retaliate (0.05/20), Meta Majority Me...</td>\n",
       "      <td>0</td>\n",
       "      <td>0.0</td>\n",
       "      <td>Predator</td>\n",
       "      <td>3</td>\n",
       "      <td>8</td>\n",
       "      <td>[0, 1, 2, 4, 5, 6, 7, 9]</td>\n",
       "      <td>8</td>\n",
       "      <td>1</td>\n",
       "      <td>[2491, 2489, 2510, 2496, 2491]</td>\n",
       "      <td>...</td>\n",
       "      <td>1.556875</td>\n",
       "      <td>[[3514, 3538, 3515, 3529, 3517], [3484, 3841, ...</td>\n",
       "      <td>3632.200</td>\n",
       "      <td>3</td>\n",
       "      <td>1</td>\n",
       "      <td>0</td>\n",
       "      <td>5</td>\n",
       "      <td>0.857143</td>\n",
       "      <td>8</td>\n",
       "      <td>[[0, 1, 2, 3, 9], [0, 1, 2, 3, 4], [0, 1, 7, 3...</td>\n",
       "    </tr>\n",
       "    <tr>\n",
       "      <th>4</th>\n",
       "      <td>[Limited Retaliate (0.05/20), Meta Majority Me...</td>\n",
       "      <td>0</td>\n",
       "      <td>0.0</td>\n",
       "      <td>Alternator Hunter</td>\n",
       "      <td>4</td>\n",
       "      <td>8</td>\n",
       "      <td>[0, 1, 2, 3, 5, 6, 7, 8]</td>\n",
       "      <td>8</td>\n",
       "      <td>7</td>\n",
       "      <td>[2802, 2793, 2772, 2781, 2796]</td>\n",
       "      <td>...</td>\n",
       "      <td>1.745625</td>\n",
       "      <td>[[3514, 3538, 3515, 3529, 3517], [3484, 3841, ...</td>\n",
       "      <td>3487.025</td>\n",
       "      <td>3</td>\n",
       "      <td>1</td>\n",
       "      <td>0</td>\n",
       "      <td>5</td>\n",
       "      <td>0.857143</td>\n",
       "      <td>8</td>\n",
       "      <td>[[0, 1, 2, 8, 4], [0, 1, 2, 3, 4], [0, 1, 7, 8...</td>\n",
       "    </tr>\n",
       "    <tr>\n",
       "      <th>5</th>\n",
       "      <td>[Limited Retaliate (0.05/20), Meta Majority Me...</td>\n",
       "      <td>0</td>\n",
       "      <td>0.0</td>\n",
       "      <td>ZD-Extort-4</td>\n",
       "      <td>5</td>\n",
       "      <td>8</td>\n",
       "      <td>[1, 2, 3, 4, 6, 7, 8, 9]</td>\n",
       "      <td>8</td>\n",
       "      <td>0</td>\n",
       "      <td>[3162, 3171, 3175, 3207, 3120]</td>\n",
       "      <td>...</td>\n",
       "      <td>1.981875</td>\n",
       "      <td>[[3484, 3841, 3761, 3756, 3964], [4059, 4231, ...</td>\n",
       "      <td>3500.075</td>\n",
       "      <td>3</td>\n",
       "      <td>1</td>\n",
       "      <td>0</td>\n",
       "      <td>5</td>\n",
       "      <td>0.857143</td>\n",
       "      <td>8</td>\n",
       "      <td>[[5, 1, 2, 8, 9], [5, 1, 2, 8, 4], [5, 1, 2, 3...</td>\n",
       "    </tr>\n",
       "    <tr>\n",
       "      <th>6</th>\n",
       "      <td>[Limited Retaliate (0.05/20), Meta Majority Me...</td>\n",
       "      <td>0</td>\n",
       "      <td>0.0</td>\n",
       "      <td>Calculator</td>\n",
       "      <td>6</td>\n",
       "      <td>8</td>\n",
       "      <td>[0, 2, 3, 4, 5, 7, 8, 9]</td>\n",
       "      <td>8</td>\n",
       "      <td>8</td>\n",
       "      <td>[4176, 3794, 3766, 3794, 3849]</td>\n",
       "      <td>...</td>\n",
       "      <td>2.371250</td>\n",
       "      <td>[[3514, 3538, 3515, 3529, 3517], [4059, 4231, ...</td>\n",
       "      <td>3381.650</td>\n",
       "      <td>3</td>\n",
       "      <td>1</td>\n",
       "      <td>0</td>\n",
       "      <td>5</td>\n",
       "      <td>0.857143</td>\n",
       "      <td>8</td>\n",
       "      <td>[[0, 6, 2, 8, 9], [0, 6, 2, 8, 4], [0, 6, 2, 3...</td>\n",
       "    </tr>\n",
       "    <tr>\n",
       "      <th>7</th>\n",
       "      <td>[Limited Retaliate (0.05/20), Meta Majority Me...</td>\n",
       "      <td>0</td>\n",
       "      <td>0.0</td>\n",
       "      <td>Fortress3</td>\n",
       "      <td>7</td>\n",
       "      <td>8</td>\n",
       "      <td>[0, 1, 3, 4, 5, 6, 8, 9]</td>\n",
       "      <td>8</td>\n",
       "      <td>5</td>\n",
       "      <td>[3672, 3856, 3651, 3650, 3887]</td>\n",
       "      <td>...</td>\n",
       "      <td>2.295000</td>\n",
       "      <td>[[3514, 3538, 3515, 3529, 3517], [3484, 3841, ...</td>\n",
       "      <td>3344.150</td>\n",
       "      <td>3</td>\n",
       "      <td>1</td>\n",
       "      <td>0</td>\n",
       "      <td>5</td>\n",
       "      <td>0.857143</td>\n",
       "      <td>8</td>\n",
       "      <td>[[0, 1, 7, 8, 9], [0, 1, 7, 8, 4], [0, 1, 7, 3...</td>\n",
       "    </tr>\n",
       "    <tr>\n",
       "      <th>8</th>\n",
       "      <td>[Limited Retaliate (0.05/20), Meta Majority Me...</td>\n",
       "      <td>0</td>\n",
       "      <td>0.0</td>\n",
       "      <td>Cycle Hunter</td>\n",
       "      <td>8</td>\n",
       "      <td>8</td>\n",
       "      <td>[0, 1, 2, 4, 5, 6, 7, 9]</td>\n",
       "      <td>8</td>\n",
       "      <td>4</td>\n",
       "      <td>[2799, 3325, 3360, 3352, 2850]</td>\n",
       "      <td>...</td>\n",
       "      <td>2.078125</td>\n",
       "      <td>[[3514, 3538, 3515, 3529, 3517], [3484, 3841, ...</td>\n",
       "      <td>3632.200</td>\n",
       "      <td>3</td>\n",
       "      <td>1</td>\n",
       "      <td>0</td>\n",
       "      <td>5</td>\n",
       "      <td>0.857143</td>\n",
       "      <td>8</td>\n",
       "      <td>[[0, 1, 2, 8, 9], [0, 1, 2, 8, 4], [0, 1, 7, 8...</td>\n",
       "    </tr>\n",
       "    <tr>\n",
       "      <th>9</th>\n",
       "      <td>[Limited Retaliate (0.05/20), Meta Majority Me...</td>\n",
       "      <td>0</td>\n",
       "      <td>0.0</td>\n",
       "      <td>Gradual</td>\n",
       "      <td>9</td>\n",
       "      <td>8</td>\n",
       "      <td>[0, 1, 2, 3, 5, 6, 7, 8]</td>\n",
       "      <td>8</td>\n",
       "      <td>3</td>\n",
       "      <td>[3980, 4004, 3992, 4058, 3992]</td>\n",
       "      <td>...</td>\n",
       "      <td>2.495000</td>\n",
       "      <td>[[3514, 3538, 3515, 3529, 3517], [3484, 3841, ...</td>\n",
       "      <td>3487.025</td>\n",
       "      <td>3</td>\n",
       "      <td>1</td>\n",
       "      <td>0</td>\n",
       "      <td>5</td>\n",
       "      <td>0.857143</td>\n",
       "      <td>8</td>\n",
       "      <td>[[0, 1, 2, 8, 9], [0, 1, 2, 3, 9], [0, 1, 7, 8...</td>\n",
       "    </tr>\n",
       "  </tbody>\n",
       "</table>\n",
       "<p>10 rows × 21 columns</p>\n",
       "</div>"
      ],
      "text/plain": [
       "                                        players_list  seed  parameter  \\\n",
       "0  [Limited Retaliate (0.05/20), Meta Majority Me...     0        0.0   \n",
       "1  [Limited Retaliate (0.05/20), Meta Majority Me...     0        0.0   \n",
       "2  [Limited Retaliate (0.05/20), Meta Majority Me...     0        0.0   \n",
       "3  [Limited Retaliate (0.05/20), Meta Majority Me...     0        0.0   \n",
       "4  [Limited Retaliate (0.05/20), Meta Majority Me...     0        0.0   \n",
       "5  [Limited Retaliate (0.05/20), Meta Majority Me...     0        0.0   \n",
       "6  [Limited Retaliate (0.05/20), Meta Majority Me...     0        0.0   \n",
       "7  [Limited Retaliate (0.05/20), Meta Majority Me...     0        0.0   \n",
       "8  [Limited Retaliate (0.05/20), Meta Majority Me...     0        0.0   \n",
       "9  [Limited Retaliate (0.05/20), Meta Majority Me...     0        0.0   \n",
       "\n",
       "                   player_name  player_index  degree  \\\n",
       "0  Limited Retaliate (0.05/20)             0       8   \n",
       "1     Meta Majority Memory One             1       8   \n",
       "2                       Prober             2       8   \n",
       "3                     Predator             3       8   \n",
       "4            Alternator Hunter             4       8   \n",
       "5                  ZD-Extort-4             5       8   \n",
       "6                   Calculator             6       8   \n",
       "7                    Fortress3             7       8   \n",
       "8                 Cycle Hunter             8       8   \n",
       "9                      Gradual             9       8   \n",
       "\n",
       "                  neighbors  neighborhood_size  ranking  \\\n",
       "0  [1, 2, 3, 4, 6, 7, 8, 9]                  8        2   \n",
       "1  [0, 2, 3, 4, 5, 7, 8, 9]                  8        9   \n",
       "2  [0, 1, 3, 4, 5, 6, 8, 9]                  8        6   \n",
       "3  [0, 1, 2, 4, 5, 6, 7, 9]                  8        1   \n",
       "4  [0, 1, 2, 3, 5, 6, 7, 8]                  8        7   \n",
       "5  [1, 2, 3, 4, 6, 7, 8, 9]                  8        0   \n",
       "6  [0, 2, 3, 4, 5, 7, 8, 9]                  8        8   \n",
       "7  [0, 1, 3, 4, 5, 6, 8, 9]                  8        5   \n",
       "8  [0, 1, 2, 4, 5, 6, 7, 9]                  8        4   \n",
       "9  [0, 1, 2, 3, 5, 6, 7, 8]                  8        3   \n",
       "\n",
       "                           scores  \\\n",
       "0  [3514, 3538, 3515, 3529, 3517]   \n",
       "1  [3484, 3841, 3761, 3756, 3964]   \n",
       "2  [4059, 4231, 4321, 4327, 4031]   \n",
       "3  [2491, 2489, 2510, 2496, 2491]   \n",
       "4  [2802, 2793, 2772, 2781, 2796]   \n",
       "5  [3162, 3171, 3175, 3207, 3120]   \n",
       "6  [4176, 3794, 3766, 3794, 3849]   \n",
       "7  [3672, 3856, 3651, 3650, 3887]   \n",
       "8  [2799, 3325, 3360, 3352, 2850]   \n",
       "9  [3980, 4004, 3992, 4058, 3992]   \n",
       "\n",
       "                         ...                         average_score  \\\n",
       "0                        ...                              2.198125   \n",
       "1                        ...                              2.350625   \n",
       "2                        ...                              2.644375   \n",
       "3                        ...                              1.556875   \n",
       "4                        ...                              1.745625   \n",
       "5                        ...                              1.981875   \n",
       "6                        ...                              2.371250   \n",
       "7                        ...                              2.295000   \n",
       "8                        ...                              2.078125   \n",
       "9                        ...                              2.495000   \n",
       "\n",
       "                                    neighbors_scores  \\\n",
       "0  [[3484, 3841, 3761, 3756, 3964], [4059, 4231, ...   \n",
       "1  [[3514, 3538, 3515, 3529, 3517], [4059, 4231, ...   \n",
       "2  [[3514, 3538, 3515, 3529, 3517], [3484, 3841, ...   \n",
       "3  [[3514, 3538, 3515, 3529, 3517], [3484, 3841, ...   \n",
       "4  [[3514, 3538, 3515, 3529, 3517], [3484, 3841, ...   \n",
       "5  [[3484, 3841, 3761, 3756, 3964], [4059, 4231, ...   \n",
       "6  [[3514, 3538, 3515, 3529, 3517], [4059, 4231, ...   \n",
       "7  [[3514, 3538, 3515, 3529, 3517], [3484, 3841, ...   \n",
       "8  [[3514, 3538, 3515, 3529, 3517], [3484, 3841, ...   \n",
       "9  [[3514, 3538, 3515, 3529, 3517], [3484, 3841, ...   \n",
       "\n",
       "  average_neighboorhood_score  R  P  S  T  clustering  connectivity  \\\n",
       "0                    3500.075  3  1  0  5    0.857143             8   \n",
       "1                    3381.650  3  1  0  5    0.857143             8   \n",
       "2                    3344.150  3  1  0  5    0.857143             8   \n",
       "3                    3632.200  3  1  0  5    0.857143             8   \n",
       "4                    3487.025  3  1  0  5    0.857143             8   \n",
       "5                    3500.075  3  1  0  5    0.857143             8   \n",
       "6                    3381.650  3  1  0  5    0.857143             8   \n",
       "7                    3344.150  3  1  0  5    0.857143             8   \n",
       "8                    3632.200  3  1  0  5    0.857143             8   \n",
       "9                    3487.025  3  1  0  5    0.857143             8   \n",
       "\n",
       "                                             cliques  \n",
       "0  [[0, 1, 2, 8, 9], [0, 1, 2, 8, 4], [0, 1, 2, 3...  \n",
       "1  [[0, 1, 2, 8, 9], [0, 1, 2, 8, 4], [0, 1, 2, 3...  \n",
       "2  [[0, 1, 2, 8, 9], [0, 1, 2, 8, 4], [0, 1, 2, 3...  \n",
       "3  [[0, 1, 2, 3, 9], [0, 1, 2, 3, 4], [0, 1, 7, 3...  \n",
       "4  [[0, 1, 2, 8, 4], [0, 1, 2, 3, 4], [0, 1, 7, 8...  \n",
       "5  [[5, 1, 2, 8, 9], [5, 1, 2, 8, 4], [5, 1, 2, 3...  \n",
       "6  [[0, 6, 2, 8, 9], [0, 6, 2, 8, 4], [0, 6, 2, 3...  \n",
       "7  [[0, 1, 7, 8, 9], [0, 1, 7, 8, 4], [0, 1, 7, 3...  \n",
       "8  [[0, 1, 2, 8, 9], [0, 1, 2, 8, 4], [0, 1, 7, 8...  \n",
       "9  [[0, 1, 2, 8, 9], [0, 1, 2, 3, 9], [0, 1, 7, 8...  \n",
       "\n",
       "[10 rows x 21 columns]"
      ]
     },
     "execution_count": 25,
     "metadata": {},
     "output_type": "execute_result"
    }
   ],
   "source": [
    "results"
   ]
  }
 ],
 "metadata": {
  "kernelspec": {
   "display_name": "Python 3",
   "language": "python",
   "name": "python3"
  },
  "language_info": {
   "codemirror_mode": {
    "name": "ipython",
    "version": 3
   },
   "file_extension": ".py",
   "mimetype": "text/x-python",
   "name": "python",
   "nbconvert_exporter": "python",
   "pygments_lexer": "ipython3",
   "version": "3.4.3"
  }
 },
 "nbformat": 4,
 "nbformat_minor": 0
}
