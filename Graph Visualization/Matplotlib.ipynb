{
 "cells": [
  {
   "cell_type": "code",
   "execution_count": 1,
   "metadata": {
    "collapsed": true
   },
   "outputs": [],
   "source": [
    "# import libraries needed\n",
    "import networkx as nx\n",
    "import matplotlib.pyplot as plt"
   ]
  },
  {
   "cell_type": "code",
   "execution_count": 2,
   "metadata": {
    "collapsed": false
   },
   "outputs": [],
   "source": [
    "# create a random graph. \n",
    "G = nx.binomial_graph(10, 0.5)\n",
    "pos = nx.spring_layout(G) # position of all the nodes"
   ]
  },
  {
   "cell_type": "code",
   "execution_count": 3,
   "metadata": {
    "collapsed": false
   },
   "outputs": [],
   "source": [
    "nx.draw(G, pos) # simply draw the graph\n",
    "plt.show()"
   ]
  },
  {
   "cell_type": "code",
   "execution_count": 4,
   "metadata": {
    "collapsed": false
   },
   "outputs": [],
   "source": [
    "nx.draw_networkx(G, pos) # draw the network. adds node index\n",
    "plt.show()"
   ]
  },
  {
   "cell_type": "code",
   "execution_count": 5,
   "metadata": {
    "collapsed": false
   },
   "outputs": [],
   "source": [
    "# for the nodes \n",
    "nx.draw_networkx_nodes(G,pos,\n",
    "                       nodelist=[0, 1, 2, 3, 4],\n",
    "                       node_color='r',\n",
    "                       node_size=100,\n",
    "                       )\n",
    "nx.draw_networkx_nodes(G,pos,\n",
    "                       nodelist=[5, 6, 7, 8, 9],\n",
    "                       node_color='b',\n",
    "                       node_size=100,\n",
    "                       )\n",
    "# for the edges\n",
    "nx.draw_networkx_edges(G,pos,\n",
    "                       edgelist=[(0,1),(1,2),(2,3),(3,4),(0,9)],\n",
    "                       width=1, edge_color='r')\n",
    "nx.draw_networkx_edges(G,pos,\n",
    "                       edgelist=[(4,5),(5,6),(6,7),(7,8),(8,9)],\n",
    "                       width=1, edge_color='b')\n",
    "# using labels\n",
    "labels={}\n",
    "labels[0]=r'$a$'\n",
    "labels[1]=r'$b$'\n",
    "labels[2]=r'$c$'\n",
    "labels[3]=r'$d$'\n",
    "labels[4]=r'$e$'\n",
    "labels[5]=r'$f$'\n",
    "labels[6]=r'$g$'\n",
    "labels[7]=r'$h$'\n",
    "labels[8]=r'$i$'\n",
    "labels[9]=r'$j$'\n",
    "nx.draw_networkx_labels(G,pos,labels,font_size=16)\n",
    "plt.show()"
   ]
  },
  {
   "cell_type": "code",
   "execution_count": 55,
   "metadata": {
    "collapsed": false
   },
   "outputs": [],
   "source": [
    "# draws the graph with a circular layout\n",
    "nx.draw_circular(G, labels = labels, aplha = 0.5, node_shape= \"D\")\n",
    "# http://matplotlib.org/api/markers_api.html\n",
    "plt.show()"
   ]
  },
  {
   "cell_type": "code",
   "execution_count": 59,
   "metadata": {
    "collapsed": true
   },
   "outputs": [],
   "source": [
    "# draws the graph with a random layout\n",
    "nx.draw_random(G, labels = labels, aplha = 0.5, node_shape= \"D\", node_color = 'b')\n",
    "plt.show()"
   ]
  },
  {
   "cell_type": "code",
   "execution_count": 68,
   "metadata": {
    "collapsed": true
   },
   "outputs": [],
   "source": [
    "# draws the graph with spectral layout\n",
    "nx.draw_spectral(G, labels = labels, aplha = 0.5, node_shape= \"D\", node_color = 'g')\n",
    "plt.show()"
   ]
  },
  {
   "cell_type": "code",
   "execution_count": 70,
   "metadata": {
    "collapsed": true
   },
   "outputs": [],
   "source": [
    "# draws the graph with spring layout\n",
    "nx.draw_spring(G, labels = labels, aplha = 0.5, node_shape= \"D\", node_color = 'g')\n",
    "plt.show()"
   ]
  },
  {
   "cell_type": "code",
   "execution_count": 72,
   "metadata": {
    "collapsed": true
   },
   "outputs": [],
   "source": [
    "# draws the graph with shell layout\n",
    "nx.draw_shell(G, labels = labels, aplha = 0.5, node_shape= \"D\", node_color = 'g')\n",
    "plt.show()"
   ]
  }
 ],
 "metadata": {
  "kernelspec": {
   "display_name": "Python 3",
   "language": "python",
   "name": "python3"
  },
  "language_info": {
   "codemirror_mode": {
    "name": "ipython",
    "version": 3
   },
   "file_extension": ".py",
   "mimetype": "text/x-python",
   "name": "python",
   "nbconvert_exporter": "python",
   "pygments_lexer": "ipython3",
   "version": "3.5.1+"
  }
 },
 "nbformat": 4,
 "nbformat_minor": 0
}
